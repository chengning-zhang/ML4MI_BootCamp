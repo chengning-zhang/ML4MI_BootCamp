{
  "nbformat": 4,
  "nbformat_minor": 0,
  "metadata": {
    "colab": {
      "name": "FunctionFitter.ipynb",
      "version": "0.3.2",
      "provenance": [],
      "include_colab_link": true
    },
    "kernelspec": {
      "display_name": "Python 3",
      "language": "python",
      "name": "python3"
    }
  },
  "cells": [
    {
      "cell_type": "markdown",
      "metadata": {
        "id": "view-in-github",
        "colab_type": "text"
      },
      "source": [
        "[View in Colaboratory](https://colab.research.google.com/github/kmjohnson3/ML4MI_BootCamp/blob/master/FunctionFitting/FunctionFitter.ipynb)"
      ]
    },
    {
      "metadata": {
        "id": "I8bb0e5BUYcH",
        "colab_type": "text"
      },
      "cell_type": "markdown",
      "source": [
        "# This is code to do very simple regression of functions \n",
        "Initially this is set to fit x1+x2 using a single 2 neuron hidden layer. This code makes a data set simply by evaulating the function. Some excersises:\n",
        "\n",
        "1. Verify the number of network parameters match the expected. \n",
        "2. Change the function to a polynomial (a*x1^2+b*x2+c) or other function. Does it still fit well?\n",
        "3. Change the network to improve the fit of your function in (2)\n",
        "4. Add additional layers and evaluate the fit (2)\n",
        "5. Try other more complex functions"
      ]
    },
    {
      "metadata": {
        "id": "a_E4joRiUYcI",
        "colab_type": "code",
        "colab": {
          "base_uri": "https://localhost:8080/",
          "height": 35
        },
        "outputId": "08d977d9-f18b-4f5a-b7c7-a5158c64ccbf"
      },
      "cell_type": "code",
      "source": [
        "# Load a bunch of libraries\n",
        "import os\n",
        "os.environ['KERAS_BACKEND'] = 'tensorflow'\n",
        "\n",
        "#Import some libraries, some are used, some could be!\n",
        "from keras.models import Input, Model\n",
        "from keras.layers import Conv2D, Concatenate, MaxPooling2D\n",
        "from keras.layers import UpSampling2D, Dropout, BatchNormalization\n",
        "import keras\n",
        "import numpy as np"
      ],
      "execution_count": 1,
      "outputs": [
        {
          "output_type": "stream",
          "text": [
            "Using TensorFlow backend.\n"
          ],
          "name": "stderr"
        }
      ]
    },
    {
      "metadata": {
        "id": "e7j--RbmUYcM",
        "colab_type": "code",
        "colab": {
          "base_uri": "https://localhost:8080/",
          "height": 52
        },
        "outputId": "b6e1b585-8f1a-4f81-df0e-8b062a12c158"
      },
      "cell_type": "code",
      "source": [
        "'''\n",
        "Generate random data of two inputs. \n",
        "'''\n",
        "# Simple random data (2*X1 + X2)\n",
        "x = np.random.randn(100000,1,2)\n",
        "\n",
        "# Define as function so you only have to change once in the code\n",
        "def target_function (x1,x2):\n",
        "    return(2*x1 + x2 )\n",
        "\n",
        "y = target_function (x[:,:,0],x[:,:,1])\n",
        "y = np.expand_dims(y,axis=2)\n",
        "\n",
        "print('Shape of output ' + str(y.shape))\n",
        "print('Shape of input ' + str(x.shape))"
      ],
      "execution_count": 2,
      "outputs": [
        {
          "output_type": "stream",
          "text": [
            "Shape of output (100000, 1, 1)\n",
            "Shape of input (100000, 1, 2)\n"
          ],
          "name": "stdout"
        }
      ]
    },
    {
      "metadata": {
        "id": "7hgHO-y9UYcP",
        "colab_type": "code",
        "colab": {
          "base_uri": "https://localhost:8080/",
          "height": 243
        },
        "outputId": "a791f5c7-ba71-4f82-e5fc-07b900557616"
      },
      "cell_type": "code",
      "source": [
        "# Make the two neuron network described in the powerpoint. Its two inputs, a 2 neuron hidden layer, and and one output layer\n",
        "i = Input(shape=(1,2))\n",
        "hidden_layer = keras.layers.Dense(2,activation='relu',use_bias=False)(i)\n",
        "o = keras.layers.Dense(1,activation='linear',use_bias=False)(hidden_layer)\n",
        "model = keras.Model(inputs=i, outputs=o)\n",
        "model.summary()    "
      ],
      "execution_count": 3,
      "outputs": [
        {
          "output_type": "stream",
          "text": [
            "_________________________________________________________________\n",
            "Layer (type)                 Output Shape              Param #   \n",
            "=================================================================\n",
            "input_1 (InputLayer)         (None, 1, 2)              0         \n",
            "_________________________________________________________________\n",
            "dense_1 (Dense)              (None, 1, 2)              4         \n",
            "_________________________________________________________________\n",
            "dense_2 (Dense)              (None, 1, 1)              2         \n",
            "=================================================================\n",
            "Total params: 6\n",
            "Trainable params: 6\n",
            "Non-trainable params: 0\n",
            "_________________________________________________________________\n"
          ],
          "name": "stdout"
        }
      ]
    },
    {
      "metadata": {
        "id": "Y7nzB3Y1UYcR",
        "colab_type": "code",
        "colab": {
          "base_uri": "https://localhost:8080/",
          "height": 401
        },
        "outputId": "511ce82d-6145-4414-991e-84a70d64f45d"
      },
      "cell_type": "code",
      "source": [
        "# Fit the  model\n",
        "model.compile(optimizer='adam',loss='mean_squared_error')\n",
        "model.fit(x,y,epochs=10, batch_size=100)"
      ],
      "execution_count": 4,
      "outputs": [
        {
          "output_type": "stream",
          "text": [
            "Epoch 1/10\n",
            "100000/100000 [==============================] - 1s 12us/step - loss: 2.2053\n",
            "Epoch 2/10\n",
            "100000/100000 [==============================] - 1s 11us/step - loss: 0.1344\n",
            "Epoch 3/10\n",
            "100000/100000 [==============================] - 1s 11us/step - loss: 7.3133e-04\n",
            "Epoch 4/10\n",
            "100000/100000 [==============================] - 1s 11us/step - loss: 8.3170e-08\n",
            "Epoch 5/10\n",
            "100000/100000 [==============================] - 1s 11us/step - loss: 1.5989e-11\n",
            "Epoch 6/10\n",
            "100000/100000 [==============================] - 1s 11us/step - loss: 5.5570e-12\n",
            "Epoch 7/10\n",
            "100000/100000 [==============================] - 1s 10us/step - loss: 2.0057e-12\n",
            "Epoch 8/10\n",
            "100000/100000 [==============================] - 1s 11us/step - loss: 6.4235e-13\n",
            "Epoch 9/10\n",
            "100000/100000 [==============================] - 1s 11us/step - loss: 2.4806e-13\n",
            "Epoch 10/10\n",
            " 28200/100000 [=======>......................] - ETA: 0s - loss: 1.0796e-13"
          ],
          "name": "stdout"
        },
        {
          "output_type": "stream",
          "text": [
            "100000/100000 [==============================] - 1s 11us/step - loss: 8.6936e-14\n"
          ],
          "name": "stdout"
        },
        {
          "output_type": "execute_result",
          "data": {
            "text/plain": [
              "<keras.callbacks.History at 0x7f55960fcc88>"
            ]
          },
          "metadata": {
            "tags": []
          },
          "execution_count": 4
        }
      ]
    },
    {
      "metadata": {
        "id": "k540t2_yUYcU",
        "colab_type": "code",
        "colab": {}
      },
      "cell_type": "code",
      "source": [
        "# This pulls out the weights from the model\n",
        "weights = model.get_weights()"
      ],
      "execution_count": 0,
      "outputs": []
    },
    {
      "metadata": {
        "id": "frlniCvUUYcX",
        "colab_type": "code",
        "colab": {
          "base_uri": "https://localhost:8080/",
          "height": 121
        },
        "outputId": "b43fffc5-5b93-45bf-fe1c-5fa96fb0daad"
      },
      "cell_type": "code",
      "source": [
        "#Print the layers\n",
        "print('Layer 1')\n",
        "print(weights[0])\n",
        "print('Layer 2')\n",
        "print(weights[1])"
      ],
      "execution_count": 6,
      "outputs": [
        {
          "output_type": "stream",
          "text": [
            "Layer 1\n",
            "[[ 1.8756357  -1.9474705 ]\n",
            " [ 0.93781793 -0.9737351 ]]\n",
            "Layer 2\n",
            "[[ 1.066305 ]\n",
            " [-1.0269732]]\n"
          ],
          "name": "stdout"
        }
      ]
    },
    {
      "metadata": {
        "id": "yWwrsUFkUYca",
        "colab_type": "code",
        "colab": {
          "base_uri": "https://localhost:8080/",
          "height": 35
        },
        "outputId": "3abcc9b4-e18e-4a4a-d85b-9eafd7c17e36"
      },
      "cell_type": "code",
      "source": [
        "# Now test with some random number\n",
        "test = np.random.randn(1,1,2)\n",
        "out = model.predict(test)\n",
        "act = target_function(test[:,:,0],test[:,:,1])\n",
        "print('A = ' + str(test[0,0,0]) + 'B = ' + str(test[0,0,1]) + ' Predict = ' + str(out[0,0,0]) + '  Actual = ' + str(act[0,0]) )\n"
      ],
      "execution_count": 7,
      "outputs": [
        {
          "output_type": "stream",
          "text": [
            "A = -0.7669159031828752B = 1.1299633404567775 Predict = -0.40386865  Actual = -0.40386846590897285\n"
          ],
          "name": "stdout"
        }
      ]
    },
    {
      "metadata": {
        "id": "UuwyS3yrUYcd",
        "colab_type": "code",
        "colab": {
          "base_uri": "https://localhost:8080/",
          "height": 207
        },
        "outputId": "91e7a82f-b20c-488d-c8a6-cd5090ab2ea6"
      },
      "cell_type": "code",
      "source": [
        "# Plot over a wider range (on a grid this time)\n",
        "x1, x2 = np.meshgrid(np.linspace(-10,10,100),np.linspace(-10,10,100))\n",
        "x1 = np.reshape(x1,(-1,1,1))\n",
        "x2 = np.reshape(x2,(-1,1,1))\n",
        "xtest = np.concatenate((x1,x2),axis=2)\n",
        "ytest = target_function( xtest[:,:,0],xtest[:,:,1])\n",
        "ytest = np.expand_dims(ytest,2)\n",
        "\n",
        "# Do the inference ( prediction)\n",
        "ypredict = model.predict(xtest)\n",
        "\n",
        "#This imports the plotting tools. First line is to allow interactive on cloud\n",
        "import matplotlib.pyplot as plt\n",
        "\n",
        "# Plot\n",
        "plt.figure(figsize=(9,3))\n",
        "plt.subplot(131)\n",
        "plt.imshow(np.reshape(ytest,(100,100)))\n",
        "plt.colorbar()\n",
        "plt.ylabel('X1')\n",
        "plt.xlabel('X2')\n",
        "plt.title('True')\n",
        "plt.subplot(132)\n",
        "plt.imshow(np.reshape(ypredict,(100,100)))\n",
        "plt.colorbar()\n",
        "plt.ylabel('X1')\n",
        "plt.xlabel('X2')\n",
        "plt.title('Predicted')\n",
        "plt.subplot(133)\n",
        "plt.imshow(np.reshape(ypredict-ytest,(100,100)))\n",
        "plt.colorbar()\n",
        "plt.ylabel('X1')\n",
        "plt.xlabel('X2')\n",
        "plt.title('Difference')\n",
        "plt.show()\n"
      ],
      "execution_count": 9,
      "outputs": [
        {
          "output_type": "display_data",
          "data": {
            "image/png": "[encoded data removed]",
            "text/plain": [
              "<matplotlib.figure.Figure at 0x7f5588c8d9e8>"
            ]
          },
          "metadata": {
            "tags": []
          }
        }
      ]
    }
  ]
}