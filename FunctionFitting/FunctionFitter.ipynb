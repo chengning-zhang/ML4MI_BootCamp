{
 "cells": [
  {
   "cell_type": "markdown",
   "metadata": {
    "colab_type": "text",
    "id": "view-in-github"
   },
   "source": [
    "[View in Colaboratory](https://colab.research.google.com/github/kmjohnson3/ML4MI_BootCamp/blob/master/FunctionFitting/FunctionFitter.ipynb)"
   ]
  },
  {
   "cell_type": "markdown",
   "metadata": {
    "colab_type": "text",
    "id": "I8bb0e5BUYcH"
   },
   "source": [
    "# This is code to do very simple regression of functions \n",
    "Initially this is set to fit x1+x2 using a single 2 neuron hidden layer. This code makes a data set simply by evaulating the function. Some excersises:\n",
    "\n",
    "1. Verify the number of network parameters match the expected. \n",
    "2. Change the function to a polynomial (a*x1^2+b*x2+c) or other function. Does it still fit well?\n",
    "3. Change the network to improve the fit of your function in (2)\n",
    "4. Add additional layers and evaluate the fit (2)\n",
    "5. Try other more complex functions"
   ]
  },
  {
   "cell_type": "code",
   "execution_count": null,
   "metadata": {
    "colab": {
     "base_uri": "https://localhost:8080/",
     "height": 35
    },
    "colab_type": "code",
    "id": "a_E4joRiUYcI",
    "outputId": "08d977d9-f18b-4f5a-b7c7-a5158c64ccbf"
   },
   "outputs": [],
   "source": [
    "# Load a bunch of libraries\n",
    "import os\n",
    "os.environ['KERAS_BACKEND'] = 'tensorflow'\n",
    "\n",
    "#Import some libraries, some are used, some could be!\n",
    "from keras.models import Input, Model\n",
    "from keras.layers import Conv2D, Concatenate, MaxPooling2D\n",
    "from keras.layers import UpSampling2D, Dropout, BatchNormalization\n",
    "import keras\n",
    "import numpy as np"
   ]
  },
  {
   "cell_type": "code",
   "execution_count": null,
   "metadata": {
    "colab": {
     "base_uri": "https://localhost:8080/",
     "height": 52
    },
    "colab_type": "code",
    "id": "e7j--RbmUYcM",
    "outputId": "b6e1b585-8f1a-4f81-df0e-8b062a12c158"
   },
   "outputs": [],
   "source": [
    "'''\n",
    "Generate random data of two inputs. \n",
    "'''\n",
    "# Simple random data (2*X1 + X2)\n",
    "x = np.random.randn(100000,1,2)\n",
    "\n",
    "# Define as function so you only have to change once in the code\n",
    "def target_function (x1,x2):\n",
    "    return(2*x1 + x2 )\n",
    "\n",
    "y = target_function (x[:,:,0],x[:,:,1])\n",
    "y = np.expand_dims(y,axis=2)\n",
    "\n",
    "print('Shape of output ' + str(y.shape))\n",
    "print('Shape of input ' + str(x.shape))"
   ]
  },
  {
   "cell_type": "code",
   "execution_count": null,
   "metadata": {
    "colab": {
     "base_uri": "https://localhost:8080/",
     "height": 243
    },
    "colab_type": "code",
    "id": "7hgHO-y9UYcP",
    "outputId": "a791f5c7-ba71-4f82-e5fc-07b900557616"
   },
   "outputs": [],
   "source": [
    "# Make the two neuron network described in the powerpoint. Its two inputs, a 2 neuron hidden layer, and and one output layer\n",
    "i = Input(shape=(1,2))\n",
    "hidden_layer = keras.layers.Dense(2,activation='relu',use_bias=False)(i)\n",
    "o = keras.layers.Dense(1,activation='linear',use_bias=False)(hidden_layer)\n",
    "model = keras.Model(inputs=i, outputs=o)\n",
    "model.summary()    "
   ]
  },
  {
   "cell_type": "code",
   "execution_count": null,
   "metadata": {
    "colab": {
     "base_uri": "https://localhost:8080/",
     "height": 401
    },
    "colab_type": "code",
    "id": "Y7nzB3Y1UYcR",
    "outputId": "511ce82d-6145-4414-991e-84a70d64f45d"
   },
   "outputs": [],
   "source": [
    "# Fit the  model\n",
    "model.compile(optimizer='adam',loss='mean_squared_error')\n",
    "model.fit(x,y,epochs=10, batch_size=100)"
   ]
  },
  {
   "cell_type": "code",
   "execution_count": null,
   "metadata": {
    "colab": {},
    "colab_type": "code",
    "id": "k540t2_yUYcU"
   },
   "outputs": [],
   "source": [
    "# This pulls out the weights from the model\n",
    "weights = model.get_weights()"
   ]
  },
  {
   "cell_type": "code",
   "execution_count": null,
   "metadata": {
    "colab": {
     "base_uri": "https://localhost:8080/",
     "height": 121
    },
    "colab_type": "code",
    "id": "frlniCvUUYcX",
    "outputId": "b43fffc5-5b93-45bf-fe1c-5fa96fb0daad"
   },
   "outputs": [],
   "source": [
    "#Print the layers\n",
    "print('Layer 1')\n",
    "print(weights[0])\n",
    "print('Layer 2')\n",
    "print(weights[1])"
   ]
  },
  {
   "cell_type": "code",
   "execution_count": null,
   "metadata": {
    "colab": {
     "base_uri": "https://localhost:8080/",
     "height": 35
    },
    "colab_type": "code",
    "id": "yWwrsUFkUYca",
    "outputId": "3abcc9b4-e18e-4a4a-d85b-9eafd7c17e36"
   },
   "outputs": [],
   "source": [
    "# Now test with some random number\n",
    "test = np.random.randn(1,1,2)\n",
    "out = model.predict(test)\n",
    "act = target_function(test[:,:,0],test[:,:,1])\n",
    "print('A = ' + str(test[0,0,0]) + 'B = ' + str(test[0,0,1]) + ' Predict = ' + str(out[0,0,0]) + '  Actual = ' + str(act[0,0]) )\n"
   ]
  },
  {
   "cell_type": "code",
   "execution_count": null,
   "metadata": {
    "colab": {
     "base_uri": "https://localhost:8080/",
     "height": 207
    },
    "colab_type": "code",
    "id": "UuwyS3yrUYcd",
    "outputId": "91e7a82f-b20c-488d-c8a6-cd5090ab2ea6"
   },
   "outputs": [],
   "source": [
    "# Plot over a wider range (on a grid this time)\n",
    "x1, x2 = np.meshgrid(np.linspace(-10,10,100),np.linspace(-10,10,100))\n",
    "x1 = np.reshape(x1,(-1,1,1))\n",
    "x2 = np.reshape(x2,(-1,1,1))\n",
    "xtest = np.concatenate((x1,x2),axis=2)\n",
    "ytest = target_function( xtest[:,:,0],xtest[:,:,1])\n",
    "ytest = np.expand_dims(ytest,2)\n",
    "\n",
    "# Do the inference ( prediction)\n",
    "ypredict = model.predict(xtest)\n",
    "\n",
    "#This imports the plotting tools. First line is to allow interactive on cloud\n",
    "import matplotlib.pyplot as plt\n",
    "\n",
    "# Plot\n",
    "plt.figure(figsize=(9,3))\n",
    "plt.subplot(131)\n",
    "plt.imshow(np.reshape(ytest,(100,100)))\n",
    "plt.colorbar()\n",
    "plt.ylabel('X1')\n",
    "plt.xlabel('X2')\n",
    "plt.title('True')\n",
    "plt.subplot(132)\n",
    "plt.imshow(np.reshape(ypredict,(100,100)))\n",
    "plt.colorbar()\n",
    "plt.ylabel('X1')\n",
    "plt.xlabel('X2')\n",
    "plt.title('Predicted')\n",
    "plt.subplot(133)\n",
    "plt.imshow(np.reshape(ypredict-ytest,(100,100)))\n",
    "plt.colorbar()\n",
    "plt.ylabel('X1')\n",
    "plt.xlabel('X2')\n",
    "plt.title('Difference')\n",
    "plt.show()\n"
   ]
  }
 ],
 "metadata": {
  "colab": {
   "include_colab_link": true,
   "name": "FunctionFitter.ipynb",
   "provenance": [],
   "version": "0.3.2"
  },
  "kernelspec": {
   "display_name": "Python 3",
   "language": "python",
   "name": "python3"
  }
 },
 "nbformat": 4,
 "nbformat_minor": 0
}
