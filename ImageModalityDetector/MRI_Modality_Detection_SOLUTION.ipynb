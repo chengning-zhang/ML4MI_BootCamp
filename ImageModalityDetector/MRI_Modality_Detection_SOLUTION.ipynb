{
  "nbformat": 4,
  "nbformat_minor": 0,
  "metadata": {
    "celltoolbar": "Raw Cell Format",
    "kernelspec": {
      "name": "python3",
      "display_name": "Python 3"
    },
    "language_info": {
      "codemirror_mode": {
        "name": "ipython",
        "version": 3
      },
      "file_extension": ".py",
      "mimetype": "text/x-python",
      "name": "python",
      "nbconvert_exporter": "python",
      "pygments_lexer": "ipython3",
      "version": "3.6.3"
    },
    "colab": {
      "name": "MRI_Modality_Detection_SOLUTION.ipynb",
      "version": "0.3.2",
      "provenance": [],
      "include_colab_link": true
    },
    "accelerator": "GPU"
  },
  "cells": [
    {
      "cell_type": "markdown",
      "metadata": {
        "id": "view-in-github",
        "colab_type": "text"
      },
      "source": [
        "<a href=\"https://colab.research.google.com/github/kmjohnson3/ML4MI_Bootcamp_Development/blob/master/ImageModalityDetector/MRI_Modality_Detection_SOLUTION.ipynb\" target=\"_parent\"><img src=\"https://colab.research.google.com/assets/colab-badge.svg\" alt=\"Open In Colab\"/></a>"
      ]
    },
    {
      "cell_type": "markdown",
      "metadata": {
        "id": "M3602ceGz4oT",
        "colab_type": "text"
      },
      "source": [
        "# Introduction\n",
        "This tutorial will give an example application of using deep learning for categorization of images. This example will demonstrate how to implement a convolutional neural network for the identifying the type of MRI contrast or pulse sequence from a given input. The tutorial will have 3 main parts:\n",
        "\n",
        "1. Loading and organization of data for model training\n",
        "2. Creating a multi-class categorization deep learning model\n",
        "3. Training with pre-defined networks\n",
        "\n",
        "Keep an eye out for questions through this demo to test your new DL knowledge and critical thinking. There are answers at the end of the document."
      ]
    },
    {
      "cell_type": "markdown",
      "metadata": {
        "id": "nPeOcqf5z4oV",
        "colab_type": "text"
      },
      "source": [
        "### Initial Preparation\n",
        "These are some modules that we will need throughout this example:"
      ]
    },
    {
      "cell_type": "code",
      "metadata": {
        "id": "aPztvUIBz4oW",
        "colab_type": "code",
        "colab": {}
      },
      "source": [
        "import numpy\n",
        "import os\n",
        "\n",
        "import tensorflow as tf\n",
        "import matplotlib.pyplot as plt\n",
        "\n",
        "# initialize random seeds for reproducible results\n",
        "from numpy.random import seed\n",
        "seed(1)\n",
        "from tensorflow import set_random_seed\n",
        "set_random_seed(2)"
      ],
      "execution_count": 0,
      "outputs": []
    },
    {
      "cell_type": "markdown",
      "metadata": {
        "id": "_-LkKRON0TpE",
        "colab_type": "text"
      },
      "source": [
        "Next, we need to copy the files to a place where our CoLab notebook can read them."
      ]
    },
    {
      "cell_type": "code",
      "metadata": {
        "id": "uXOg0P5W0fUP",
        "colab_type": "code",
        "outputId": "1766d0d0-f314-41e4-9b12-12ff18a92950",
        "colab": {
          "base_uri": "https://localhost:8080/",
          "height": 51
        }
      },
      "source": [
        "# Mount the Google Drive\n",
        "from google.colab import drive\n",
        "drive.mount('/content/drive')\n",
        "\n",
        "# Unarchive data to this VM\n",
        "import tarfile\n",
        "from tqdm import tqdm\n",
        "with tarfile.open(name='/content/drive/My Drive/ML4MI_BOOTCAMP_DATA/ImageModalityDetector.tar') as tar:\n",
        "    for member in tqdm(iterable=tar.getmembers(), desc='Decompressing', unit='file', total=len(tar.getmembers())):\n",
        "      tar.extract(member=member,path='/home/')"
      ],
      "execution_count": 2,
      "outputs": [
        {
          "output_type": "stream",
          "text": [
            "Drive already mounted at /content/drive; to attempt to forcibly remount, call drive.mount(\"/content/drive\", force_remount=True).\n"
          ],
          "name": "stdout"
        },
        {
          "output_type": "stream",
          "text": [
            "Decompressing: 100%|██████████| 74122/74122 [00:42<00:00, 57.98file/s]  \n"
          ],
          "name": "stderr"
        }
      ]
    },
    {
      "cell_type": "markdown",
      "metadata": {
        "id": "E1ScAI5iz4oZ",
        "colab_type": "text"
      },
      "source": [
        "# Part 1: Data Organization\n",
        "Data for this example has already been prepared for you. The data utilized here is from the 2017 MICCAI Multimodal Brain Tumor Segmentation (BRATS) Challenge. The data consists of magnetic resonance imaging (MRI) data from 19 different institutions in subjects with glioblastoma/high grade glioma (GBM/HGG) and low grade glioma (LGG). The different MRI scans include: T1-weighted (t1), post-contrast Gadolinium-enhanced images (t1ce), T2-weighted (t2), and T2 fluid attenuated inversion recovery (flair). More information on the 2017 BRATS Challenge is available here: https://www.med.upenn.edu/sbia/brats2017/data.html\n",
        "\n",
        "Data preparation for this example is similar to the approach that utilized in the previous example. This includes the use of a Keras image data generator. Your instructor has converted the BRATS data from the NiFTI imaging format (https://nifti.nimh.nih.gov/nifti-1/) to portable network graphics (.png) files, which is an image file format that can be read natively in Keras. Each .png file is a 256x256 axial image. In a later exercise, you will load image data directly from DICOM files as a further example. The structure of the data folder is as follows:\n",
        "<pre>\n",
        "  --ImageModalityDetector\n",
        "     --test (17,100 files)\n",
        "           --flair\n",
        "           --t1\n",
        "           --t1ce\n",
        "           --t2\n",
        "     --train (39,900 files)\n",
        "           --flair\n",
        "           --t1\n",
        "           --t1ce\n",
        "           --t2\n",
        "     --validate (17,100 files)\n",
        "           --flair\n",
        "           --t1\n",
        "           --t1ce\n",
        "           --t2\n",
        "</pre>\n",
        "\n",
        "Configuring the images in this particular folder structure allows easy use of a Keras ImageDataGenerator to perform the categorization of the different types of data for which we wish to discriminate. Specifically for this example, this includes the type of MRI scan: (flair, t1, t1ce, or t2) of each input image. The BRATS Dataset includes images from 285 subjects, and in this structure the data has been divided into ~66 subjects in the testing set (test), ~153 subjects in the training set (train), and ~66 subjects in the validation set (validate). Thus, each subject contributes 65 slices for each type of MRI scan.\n",
        "\n",
        "Now let's work on setting up the ImageDataGenerator to read in our data. Keras has built-in capabilities to perform basic types of data augmentation. That is the ability to apply different, randomized transformations to the input data to increase the diversity of the dataset. In this exercise we will explore the use of an ImageDataGenerator to perform varying types of augmentation. Let's try it out:"
      ]
    },
    {
      "cell_type": "code",
      "metadata": {
        "id": "fRxXZPq4z4oa",
        "colab_type": "code",
        "colab": {}
      },
      "source": [
        "# first let's use some varaibles to record information about our data\n",
        "dims = 256 # this is the size of out input data, 256x256\n",
        "#classes = ? # how many types of MRI scans do we have?\n",
        "#<SOLUTION>\n",
        "classes = 4\n",
        "#</SOLUTION>\n",
        "batch_size = 15 # this is how many input images will be utilized for each training step\n",
        "\n",
        "# this is the folder that contains the 39,900 images that will be used for training\n",
        "train_folder = '/home/ImageModalityDetector/train'\n",
        "# this is the folder htat contains the 17,100 images that will be used for validation\n",
        "valid_folder = '/home/ImageModalityDetector/validate'\n",
        "\n",
        "# set up the ImageDataGenerator for the validation data first. We will not perform augmentation on the validation data, but we do need to normalize the input intensity of the input images:\n",
        "valid_datagen = tf.keras.preprocessing.image.ImageDataGenerator(rescale=1./255)\n",
        "\n",
        "# now set up the ImageDataGenerator for the training:\n",
        "# Go to the documentation page for the ImageDataGenerator (https://keras.io/preprocessing/image/#imagedatagenerator-class)\n",
        "#  and learn how to add in a rotation, a shear, width shift, height shift, and zoom augmentation.\n",
        "#  What are reasonable values for this type of dataset?\n",
        "#train_datagen = ?\n",
        "#<SOLUTION>\n",
        "train_datagen = tf.keras.preprocessing.image.ImageDataGenerator(rescale=1./255,rotation_range=10,shear_range=1,width_shift_range=0.2,height_shift_range=0.2,zoom_range=0.2)\n",
        "\n",
        "#</SOLUTION>"
      ],
      "execution_count": 0,
      "outputs": []
    },
    {
      "cell_type": "markdown",
      "metadata": {
        "id": "NaA-M3TLz4oc",
        "colab_type": "text"
      },
      "source": [
        "# Model Configuration\n",
        "In this example we will explore the use of different model structures that are already available in Keras. But first let's start with the model that used in the last example. Can you modify the existing model structure? How will it work with the number of classes in this new dataset?"
      ]
    },
    {
      "cell_type": "code",
      "metadata": {
        "id": "4lnY8asqz4od",
        "colab_type": "code",
        "colab": {
          "base_uri": "https://localhost:8080/",
          "height": 105
        },
        "outputId": "bc5ca20c-f79d-4b47-c60c-5c6022c7db47"
      },
      "source": [
        "# insert the model you used in the last example here\n",
        "#<SOLUTION>\n",
        "img_input = tf.keras.layers.Input(shape=(dims,dims,1))\n",
        "x = tf.keras.layers.Conv2D(15, (3, 3), strides=(4,4), padding='same', kernel_initializer='he_normal')(img_input)\n",
        "x = tf.keras.layers.Activation('relu')(x)\n",
        "x = tf.keras.layers.MaxPooling2D((2, 2), strides=None)(x)\n",
        "x = tf.keras.layers.Flatten()(x)     #reshape to 1xN\n",
        "x = tf.keras.layers.Dense(20, activation='relu', kernel_initializer='he_normal')(x)\n",
        "x = tf.keras.layers.Dense(classes, activation='relu')(x)\n",
        "model = tf.keras.models.Model(inputs=img_input, outputs=x)\n",
        "#</SOLUTION>\n",
        "\n",
        "# now lets compile the model.\n",
        "#  What loss function should be used? binary_crossentropy does not make sense anymore.\n",
        "#    Here is a list of available loss functions in Keras: https://keras.io/losses/\n",
        "#  What metrics should be used? accuracy is also not appropriate here.\n",
        "#    Here is a list of available metrics in Keras: https://keras.io/metrics/\n",
        "#model.compile(loss=\"?\", optimizer=tf.keras.optimizers.optimizers.Adam(lr=1e-3), metrics=[\"?\"])\n",
        "#<SOLUTION>\n",
        "model.compile(loss=\"categorical_crossentropy\", optimizer=tf.keras.optimizers.Adam(lr=1e-3), metrics=[\"categorical_accuracy\"])\n",
        "#</SOLUTION>"
      ],
      "execution_count": 4,
      "outputs": [
        {
          "output_type": "stream",
          "text": [
            "WARNING: Logging before flag parsing goes to stderr.\n",
            "W0820 04:37:24.341976 140648770234240 deprecation.py:506] From /usr/local/lib/python3.6/dist-packages/tensorflow/python/ops/init_ops.py:1251: calling VarianceScaling.__init__ (from tensorflow.python.ops.init_ops) with dtype is deprecated and will be removed in a future version.\n",
            "Instructions for updating:\n",
            "Call initializer instance with the dtype argument instead of passing it to the constructor\n"
          ],
          "name": "stderr"
        }
      ]
    },
    {
      "cell_type": "markdown",
      "metadata": {
        "id": "amra_0kSz4of",
        "colab_type": "text"
      },
      "source": [
        "# Model Training\n",
        "Let's work on training this this model and dataset.\n",
        "\n",
        "First, let's set up the ImageDataGenerator to use the flow_from_directory function. This is very useful because it allows us to train large datasets that we might not be able to entirely load into our computer's memory. Also, it provides the facilities for on-the-fly augmentation that we are now using. "
      ]
    },
    {
      "cell_type": "code",
      "metadata": {
        "id": "F7sLnUjsz4og",
        "colab_type": "code",
        "outputId": "d2dcdea9-20c3-40d7-cd29-a3e35a318064",
        "colab": {
          "base_uri": "https://localhost:8080/",
          "height": 51
        }
      },
      "source": [
        "# the call to flow_from_directory, technically it returns a DirectoryIterator object\n",
        "#  that we pass to the model.fit_generator. Let's set it up:\n",
        "# What should class_mode be set to here?\n",
        "#train_generator = train_datagen.flow_from_directory(train_folder, batch_size=batch_size, target_size=(dims,dims), shuffle=True, class_mode='?', color_mode='grayscale')\n",
        "#valid_generator = valid_datagen.flow_from_directory(valid_folder, batch_size=batch_size, target_size=(dims,dims), shuffle=True, class_mode='?', color_mode='grayscale')\n",
        "#<SOLUTION>\n",
        "train_generator = train_datagen.flow_from_directory(train_folder, batch_size=batch_size, target_size=(dims,dims), shuffle=True, class_mode='categorical', color_mode='grayscale')\n",
        "valid_generator = valid_datagen.flow_from_directory(valid_folder, batch_size=batch_size, target_size=(dims,dims), shuffle=True, class_mode='categorical', color_mode='grayscale')\n",
        "#</SOLUTION>"
      ],
      "execution_count": 5,
      "outputs": [
        {
          "output_type": "stream",
          "text": [
            "Found 39900 images belonging to 4 classes.\n",
            "Found 17100 images belonging to 4 classes.\n"
          ],
          "name": "stdout"
        }
      ]
    },
    {
      "cell_type": "markdown",
      "metadata": {
        "id": "HgZRoabfz4oi",
        "colab_type": "text"
      },
      "source": [
        "Now we are ready to start training. Let's get this get this going:"
      ]
    },
    {
      "cell_type": "code",
      "metadata": {
        "id": "TwKb5CEpz4oi",
        "colab_type": "code",
        "outputId": "9c342f2f-8adb-428f-a2ca-3c01bbe88df6",
        "colab": {
          "base_uri": "https://localhost:8080/",
          "height": 258
        }
      },
      "source": [
        "# steps is the number of batches that are passed during each epoch\n",
        "#   IRL, this should be large enough such that we pass through the entire\n",
        "#        dataset (or equivalent) for each epoch. That is: 9975/batch_size\n",
        "#   For practicality for this course, let's make it smaller so we can progress\n",
        "#    through this exercise at a quicker pace.\n",
        "steps = 500\n",
        "# val_steps is the number of batches that are passed during each validation epoch\n",
        "#   IRL, this should be large enough such that we pass through the entire\n",
        "#        dataset (or equivalent) for each epoch. That is: 4275/batch_size\n",
        "#   For practicality for this course, let's make it smaller so we can progress\n",
        "#    through this exercise at a quicker pace.\n",
        "val_steps = 100\n",
        "\n",
        "# now let's train for 5 epochs (note that this is unrealistic demonstration of model training)\n",
        "history = model.fit_generator(train_generator, steps_per_epoch=steps, epochs=5, \n",
        "                              validation_data=valid_generator, validation_steps=val_steps)\n",
        "\n",
        "# It should not take long to train this model. Maybe a few minutes or less."
      ],
      "execution_count": 6,
      "outputs": [
        {
          "output_type": "stream",
          "text": [
            "Epoch 1/5\n"
          ],
          "name": "stdout"
        },
        {
          "output_type": "stream",
          "text": [
            "W0820 04:37:29.625884 140648770234240 deprecation.py:323] From /usr/local/lib/python3.6/dist-packages/tensorflow/python/ops/math_grad.py:1250: add_dispatch_support.<locals>.wrapper (from tensorflow.python.ops.array_ops) is deprecated and will be removed in a future version.\n",
            "Instructions for updating:\n",
            "Use tf.where in 2.0, which has the same broadcast rule as np.where\n"
          ],
          "name": "stderr"
        },
        {
          "output_type": "stream",
          "text": [
            "500/500 [==============================] - 52s 105ms/step - loss: 1.4119 - categorical_accuracy: 0.2984 - val_loss: 1.3254 - val_categorical_accuracy: 0.4127\n",
            "Epoch 2/5\n",
            "500/500 [==============================] - 41s 83ms/step - loss: 1.3173 - categorical_accuracy: 0.3496 - val_loss: 1.2183 - val_categorical_accuracy: 0.3307\n",
            "Epoch 3/5\n",
            "500/500 [==============================] - 38s 76ms/step - loss: 1.3012 - categorical_accuracy: 0.3733 - val_loss: 1.4728 - val_categorical_accuracy: 0.4093\n",
            "Epoch 4/5\n",
            "500/500 [==============================] - 37s 74ms/step - loss: 1.3120 - categorical_accuracy: 0.4356 - val_loss: 1.2357 - val_categorical_accuracy: 0.4380\n",
            "Epoch 5/5\n",
            "500/500 [==============================] - 37s 74ms/step - loss: 1.2867 - categorical_accuracy: 0.4060 - val_loss: 1.2043 - val_categorical_accuracy: 0.6067\n"
          ],
          "name": "stdout"
        }
      ]
    },
    {
      "cell_type": "markdown",
      "metadata": {
        "id": "BoBooSO7z4ok",
        "colab_type": "text"
      },
      "source": [
        "Now that training is complete. Let's plot the losses:"
      ]
    },
    {
      "cell_type": "code",
      "metadata": {
        "id": "P78yHdQuz4ol",
        "colab_type": "code",
        "outputId": "84c58eb3-75a2-4d68-a686-b3f0a1e9a472",
        "colab": {
          "base_uri": "https://localhost:8080/",
          "height": 295
        }
      },
      "source": [
        "# first, we need to import matplotlib to enable plotting\n",
        "plt.figure(figsize=(6.0, 4.0));\n",
        "# Plot the losses\n",
        "plt.subplot(121)\n",
        "plt.plot(history.epoch,history.history['loss'],'b-s')\n",
        "plt.plot(history.epoch,history.history['val_loss'],'r-s')\n",
        "plt.legend(['Training Data',\n",
        "            'Validation Data'])\n",
        "plt.xlabel('Epochs')\n",
        "plt.ylabel('Accuracy')\n",
        "plt.title('Loss Plot')\n",
        "# Plot the accuracy\n",
        "plt.subplot(122)\n",
        "plt.plot(history.epoch,history.history['categorical_accuracy'],'b-s')\n",
        "plt.plot(history.epoch,history.history['val_categorical_accuracy'],'r-s')\n",
        "plt.legend(['Training Data',\n",
        "            'Validation Data'])\n",
        "plt.xlabel('Epochs')\n",
        "plt.ylabel('Accuracy')\n",
        "plt.title('Accuracy Plot')\n",
        "plt.show()"
      ],
      "execution_count": 7,
      "outputs": [
        {
          "output_type": "display_data",
          "data": {
            "image/png": "[encoded data removed]",
            "text/plain": [
              "<Figure size 432x288 with 2 Axes>"
            ]
          },
          "metadata": {
            "tags": []
          }
        }
      ]
    },
    {
      "cell_type": "markdown",
      "metadata": {
        "id": "H1RQlckwz4on",
        "colab_type": "text"
      },
      "source": [
        "**Question 1:** Given the number of input classes that we have. What would be the accuracy of a model that was as good as a random guess? What was the accuracy of your model?"
      ]
    },
    {
      "cell_type": "markdown",
      "metadata": {
        "id": "d3cP7H7Uz4oo",
        "colab_type": "text"
      },
      "source": [
        "### Improved Network Structures\n",
        "I hope you agree that we can do better. Let's try this again but with different model. Keras has the functionality to use pre-existing network structures. Let's explore that functionality. Please take a look at the Keras Applications page (https://keras.io/applications/), which describes pre-configured networks that are available.\n",
        "\n",
        "We will try MobileNet, which is designed to be an efficient network. Here is more information about the MobileNet structure: https://arxiv.org/pdf/1704.04861.pdf"
      ]
    },
    {
      "cell_type": "code",
      "metadata": {
        "id": "8txHv6kWz4op",
        "colab_type": "code",
        "outputId": "e0dc3475-b50b-4cda-b524-7d9d16078e34",
        "colab": {
          "base_uri": "https://localhost:8080/",
          "height": 187
        }
      },
      "source": [
        "# here instantiate a MobileNet that is specific to our data (image size and number of classes) with randomized initial weights\n",
        "#model_mn = tf.keras.applications.mobilenet.MobileNet( ? )\n",
        "#<SOLUTION>\n",
        "model_mn = tf.keras.applications.mobilenet.MobileNet(weights=None, input_shape=(dims,dims,1), classes=classes)\n",
        "#</SOLUTION>\n",
        "\n",
        "# now let's train it\n",
        "model_mn.compile(loss=\"categorical_crossentropy\", optimizer=tf.keras.optimizers.Adam(lr=1e-3), metrics=[\"categorical_accuracy\"])\n",
        "history_mn = model_mn.fit_generator(train_generator, steps_per_epoch=steps, epochs=5,\n",
        "                              validation_data=valid_generator, validation_steps=val_steps)\n",
        "\n",
        "# this model will take several minutes to train (a bit longer than the first one)"
      ],
      "execution_count": 8,
      "outputs": [
        {
          "output_type": "stream",
          "text": [
            "Epoch 1/5\n",
            "500/500 [==============================] - 78s 157ms/step - loss: 0.9063 - categorical_accuracy: 0.6160 - val_loss: 2.4086 - val_categorical_accuracy: 0.2373\n",
            "Epoch 2/5\n",
            "500/500 [==============================] - 72s 145ms/step - loss: 0.5008 - categorical_accuracy: 0.8079 - val_loss: 2.3533 - val_categorical_accuracy: 0.6000\n",
            "Epoch 3/5\n",
            "500/500 [==============================] - 73s 145ms/step - loss: 0.3103 - categorical_accuracy: 0.8852 - val_loss: 2.0422 - val_categorical_accuracy: 0.5393\n",
            "Epoch 4/5\n",
            "500/500 [==============================] - 72s 144ms/step - loss: 0.2616 - categorical_accuracy: 0.9045 - val_loss: 1.5612 - val_categorical_accuracy: 0.7120\n",
            "Epoch 5/5\n",
            "500/500 [==============================] - 72s 144ms/step - loss: 0.2255 - categorical_accuracy: 0.9217 - val_loss: 1.3104 - val_categorical_accuracy: 0.7027\n"
          ],
          "name": "stdout"
        }
      ]
    },
    {
      "cell_type": "markdown",
      "metadata": {
        "id": "y85nHYDDz4os",
        "colab_type": "text"
      },
      "source": [
        "Now we can plot the losses compared to our first network:"
      ]
    },
    {
      "cell_type": "code",
      "metadata": {
        "id": "dQFBd4VUz4ot",
        "colab_type": "code",
        "outputId": "cf2dea0e-9d50-4385-d231-0b865e704dc9",
        "colab": {
          "base_uri": "https://localhost:8080/",
          "height": 295
        }
      },
      "source": [
        "plt.figure(figsize=(6.0, 4.0));\n",
        "plt.subplot(121)\n",
        "plt.plot(history_mn.epoch,history_mn.history['loss'],'b-s')\n",
        "plt.plot(history.epoch,history.history['loss'],'g-s')\n",
        "plt.legend(['MobileNet Training Data',\n",
        "            '1st Network Training Data'])\n",
        "plt.xlabel('Epochs')\n",
        "plt.ylabel('Loss')\n",
        "plt.title('Loss Plot')\n",
        "plt.subplot(122)\n",
        "plt.plot(history_mn.epoch,history_mn.history['val_categorical_accuracy'],'r-s')\n",
        "plt.plot(history.epoch,history.history['val_categorical_accuracy'],'c-s')\n",
        "plt.legend(['MobileNet Validation Data',\n",
        "            '1st Network Validation Data'])\n",
        "plt.xlabel('Epochs')\n",
        "plt.ylabel('Accuracy')\n",
        "plt.title('Accuracy Plot')\n",
        "plt.show()"
      ],
      "execution_count": 9,
      "outputs": [
        {
          "output_type": "display_data",
          "data": {
            "image/png": "[encoded data removed]",
            "text/plain": [
              "<Figure size 432x288 with 2 Axes>"
            ]
          },
          "metadata": {
            "tags": []
          }
        }
      ]
    },
    {
      "cell_type": "markdown",
      "metadata": {
        "id": "sate6Ep4z4ov",
        "colab_type": "text"
      },
      "source": [
        "This looks like it is doing much better. Unfortunately we do not have the time today to complete the full training. Fortunately, your instructor has trained this network (and several others) for up to 30 epochs. Let's work on next loading these trained models and compare their performance. Note that we are using a Keras callback function, ModelCheckpoint (https://keras.io/callbacks/#modelcheckpoint), to save the best weights of the trained network. We will load these weight files in the next step. \n",
        "\n",
        "For your information, the code that was used to train the different networks is below:\n",
        "\n",
        "#### To define VGG16 - https://arxiv.org/abs/1409.1556\n",
        "<pre>\n",
        "model = tf.keras.applications.vgg16.VGG16(weights=None, input_shape=(dims,dims,1), classes=classes)\n",
        "</pre>\n",
        "#### To define InceptionV3 - http://arxiv.org/abs/1512.00567\n",
        "<pre>\n",
        "model = tf.keras.applications.inception_v3.InceptionV3(weights=None, input_shape=(dims,dims,1), classes=classes)\n",
        "</pre>\n",
        "#### To define DenseNet - https://arxiv.org/abs/1608.06993\n",
        "<pre>\n",
        "model = tf.keras.applications.densenet.DenseNet121(weights=None, input_shape=(dims,dims,1), classes=classes)\n",
        "</pre>\n",
        "#### Used to train all of the above models\n",
        "<pre>\n",
        "model.compile(loss=\"categorical_crossentropy\", optimizer=optimizers.Adam(lr=1e-4), metrics=[\"categorical_accuracy\"])\n",
        "from keras.callbacks import ModelCheckpoint\n",
        "model_checkpoint = ModelCheckpoint('weights.h5', monitor='loss', save_best_only=True)\n",
        "history = model.fit_generator(train_generator, steps_per_epoch=steps, epochs=30, callbacks=[model_checkpoint], validation_data=valid_generator, validation_steps=val_steps )\n",
        "</pre>\n",
        "\n"
      ]
    },
    {
      "cell_type": "markdown",
      "metadata": {
        "id": "9DN9YUB7z4ov",
        "colab_type": "text"
      },
      "source": [
        "### Comparing Different Models\n",
        "Let's start by loading up the different history files that were saved for each model, and let's take a look at the loss plot for each epoch."
      ]
    },
    {
      "cell_type": "code",
      "metadata": {
        "id": "DUDpuAJcz4ow",
        "colab_type": "code",
        "outputId": "ba645b3b-3669-46fe-afa5-12e4ef280f54",
        "colab": {
          "base_uri": "https://localhost:8080/",
          "height": 295
        }
      },
      "source": [
        "# load in history files\n",
        "history_inceptionv3 = numpy.load('/home/ImageModalityDetector/history_inceptionv3.npy',allow_pickle=True)\n",
        "history_mobilenet = numpy.load('/home/ImageModalityDetector/history_mobilenet.npy',allow_pickle=True)\n",
        "history_vgg16 = numpy.load('/home/ImageModalityDetector/history_vgg16.npy',allow_pickle=True)\n",
        "\n",
        "# let's plot them\n",
        "plt.figure(figsize=(6.0, 4.0));\n",
        "plt.subplot(121)\n",
        "plt.plot(history_inceptionv3.all()['loss'],'b-s')\n",
        "plt.plot(history_mobilenet.all()['loss'],'r-s')\n",
        "plt.plot(history_vgg16.all()['loss'],'g-s')\n",
        "plt.legend(['InceptionV3',\n",
        "            'MobileNet',\n",
        "            'VGG16'])\n",
        "plt.xlabel('Epochs')\n",
        "plt.ylabel('Loss')\n",
        "plt.ylabel('Loss Plot')\n",
        "\n",
        "plt.subplot(122)\n",
        "plt.plot(history_inceptionv3.all()['categorical_accuracy'],'b-s')\n",
        "plt.plot(history_mobilenet.all()['categorical_accuracy'],'r-s')\n",
        "plt.plot(history_vgg16.all()['categorical_accuracy'],'g-s')\n",
        "plt.legend(['InceptionV3',\n",
        "            'MobileNet',\n",
        "            'VGG16'])\n",
        "plt.xlabel('Epochs')\n",
        "plt.ylabel('Accuracy')\n",
        "plt.title('Accuracy Plot')\n",
        "plt.show()"
      ],
      "execution_count": 10,
      "outputs": [
        {
          "output_type": "display_data",
          "data": {
            "image/png": "[encoded data removed]",
            "text/plain": [
              "<Figure size 432x288 with 2 Axes>"
            ]
          },
          "metadata": {
            "tags": []
          }
        }
      ]
    },
    {
      "cell_type": "markdown",
      "metadata": {
        "id": "aMnvFg4_z4oy",
        "colab_type": "text"
      },
      "source": [
        "**Question 2:** Which network performs the best? Do you think training is complete after 30 epochs?"
      ]
    },
    {
      "cell_type": "markdown",
      "metadata": {
        "id": "rb89I7t_z4oz",
        "colab_type": "text"
      },
      "source": [
        "Now let's evaluate some data and see what happens. Let's using the InceptionV3 model and load the existing trained weights:"
      ]
    },
    {
      "cell_type": "code",
      "metadata": {
        "id": "UT8jmTkNz4o0",
        "colab_type": "code",
        "colab": {}
      },
      "source": [
        "model_i = tf.keras.applications.inception_v3.InceptionV3(weights='/home/ImageModalityDetector/weights_inceptionv3.h5', input_shape=(dims,dims,1), classes=classes)\n",
        "model_i.compile(loss=\"categorical_crossentropy\", optimizer=tf.keras.optimizers.Adam(lr=1e-4), metrics=[\"categorical_accuracy\"])"
      ],
      "execution_count": 0,
      "outputs": []
    },
    {
      "cell_type": "markdown",
      "metadata": {
        "id": "I1WJu_-zz4o2",
        "colab_type": "text"
      },
      "source": [
        "Now let's work on testing the model with some data"
      ]
    },
    {
      "cell_type": "code",
      "metadata": {
        "id": "o0mV6dQRz4o3",
        "colab_type": "code",
        "outputId": "bb20d55b-9027-449b-e830-373e08f551cf",
        "colab": {
          "base_uri": "https://localhost:8080/",
          "height": 34
        }
      },
      "source": [
        "# let's set up an ImageDataGenerator for the test data\n",
        "test_folder = '/home/ImageModalityDetector/test'\n",
        "test_datagen = tf.keras.preprocessing.image.ImageDataGenerator(rescale=1./255)\n",
        "test_generator = test_datagen.flow_from_directory(test_folder, batch_size=1, target_size=(dims,dims), class_mode='categorical', color_mode='grayscale')"
      ],
      "execution_count": 12,
      "outputs": [
        {
          "output_type": "stream",
          "text": [
            "Found 17100 images belonging to 4 classes.\n"
          ],
          "name": "stdout"
        }
      ]
    },
    {
      "cell_type": "code",
      "metadata": {
        "id": "nsKuIDy7z4o5",
        "colab_type": "code",
        "outputId": "c471dff5-54fc-4921-ba32-0d7bd13bcb17",
        "colab": {
          "base_uri": "https://localhost:8080/",
          "height": 286
        }
      },
      "source": [
        "# get the next image from the generator\n",
        "X,Y = test_generator.next()\n",
        "\n",
        "# visualize the current image\n",
        "plt.figure(figsize=(6.0, 4.0))\n",
        "plt.imshow(X[0,:,:,0],cmap='gray')\n",
        "\n",
        "plt.show()\n",
        "\n",
        "# now predict\n",
        "y = model_i.predict(X)\n",
        "\n",
        "# display the prediction as a printed text message\n",
        "actual_type = [key for key in test_generator.class_indices.items() if key[1] == numpy.argmax(Y)][0][0]\n",
        "predicted_type = [key for key in test_generator.class_indices.items() if key[1] == numpy.argmax(y)][0][0]\n",
        "print('The actual type was {}, the predicted type was {}'.format(actual_type,predicted_type))"
      ],
      "execution_count": 13,
      "outputs": [
        {
          "output_type": "display_data",
          "data": {
            "image/png": "[encoded data removed]",
            "text/plain": [
              "<Figure size 432x288 with 1 Axes>"
            ]
          },
          "metadata": {
            "tags": []
          }
        },
        {
          "output_type": "stream",
          "text": [
            "The actual type was t1ce, the predicted type was t1ce\n"
          ],
          "name": "stdout"
        }
      ]
    },
    {
      "cell_type": "markdown",
      "metadata": {
        "id": "ySIrFM7Hz4o7",
        "colab_type": "text"
      },
      "source": [
        "You can re-run the cell above to get the next iteration from the test data generator. Keep running it until you identify several misclassifications of the MRI pulse sequence type."
      ]
    },
    {
      "cell_type": "markdown",
      "metadata": {
        "id": "YSBuxulHz4o7",
        "colab_type": "text"
      },
      "source": [
        "**Question 3:** When the network failed to identify the pulse sequence type, what characteristics did you notice in the images? For example, what regions of the brain did the algorithm seem to struggle with identifying? Do you think that you could have done better?"
      ]
    },
    {
      "cell_type": "markdown",
      "metadata": {
        "id": "nW4rcjkKz4o8",
        "colab_type": "text"
      },
      "source": [
        "### End of Exercise\n",
        "This is the end of this exercise. If you have extra time and would like to try a few advanced ideas, please consider trying the following:\n",
        "1. Modify the code above to include predictions for MobileNet and VGG16. Perform the analysis on the 3 different networks for each slice. Are failure cases similar between networks?\n",
        "2. Try re-training the MobileNet network without augmentation. Do you notice any differences?\n",
        "3. Try adding different types of augmentation, such as left-right and up-down flips. What about adding more extreme degrees of augmentation? Does this improve network performance?\n",
        "4. Try adding augmentation to the evaluation stage to see how the network performs with augmentation.\n",
        "5. Explore the other types of available Callback functions during model fitting. There are many useful predefined types of callbacks that you can use to get more information from your network during training. Read more about them here: https://keras.io/callbacks/"
      ]
    },
    {
      "cell_type": "code",
      "metadata": {
        "id": "b4VdCdj4z4o8",
        "colab_type": "code",
        "colab": {}
      },
      "source": [
        ""
      ],
      "execution_count": 0,
      "outputs": []
    }
  ]
}