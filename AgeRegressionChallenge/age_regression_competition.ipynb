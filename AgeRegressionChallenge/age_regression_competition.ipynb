{
 "cells": [
  {
   "cell_type": "code",
   "execution_count": null,
   "metadata": {},
   "outputs": [],
   "source": [
    "import os\n",
    "os.environ['KERAS_BACKEND'] = 'tensorflow'"
   ]
  },
  {
   "cell_type": "code",
   "execution_count": null,
   "metadata": {},
   "outputs": [],
   "source": [
    "from matplotlib import pyplot as plt\n",
    "import numpy as np\n",
    "import h5py\n",
    "from keras import optimizers\n",
    "from keras.models import Model \n",
    "from keras.layers import Conv2D \n",
    "from keras.layers import MaxPooling2D\n",
    "from keras.layers import BatchNormalization\n",
    "from keras.layers import Input\n",
    "from keras.layers import Flatten\n",
    "from keras.layers import Dense"
   ]
  },
  {
   "cell_type": "markdown",
   "metadata": {},
   "source": [
    "Load training, validation, and testing data.\n",
    "Convert to nummpy array, add singleton dimension in channel position (1 channel -- grayscale). Edit path as needed.\n",
    "Note that a warning may appear about expand_dims using deprecated functions -- ignore it or swap expand_dims with X_test[:,:,:, np.newaxis]"
   ]
  },
  {
   "cell_type": "code",
   "execution_count": null,
   "metadata": {},
   "outputs": [],
   "source": [
    "datapath = 'Data/Pneumothorax.h5'\n",
    "\n",
    "with h5py.File(datapath,'r') as f:\n",
    "    X_test = np.expand_dims( np.array(f.get('input_test')) , 3).astype(np.float32)\n",
    "    Y_test = np.expand_dims( np.array(f.get('target_test')) , 3).astype(np.float32)   \n",
    "    X_train = np.expand_dims( np.array(f.get('input_train')) , 3).astype(np.float32)  \n",
    "    Y_train = np.expand_dims( np.array(f.get('target_train')) , 3).astype(np.float32)   \n",
    "    X_val =  np.expand_dims( np.array(f.get('input_val')) , 3).astype(np.float32)   \n",
    "    Y_val = np.expand_dims( np.array(f.get('target_val')) , 3).astype(np.float32)   \n"
   ]
  },
  {
   "cell_type": "markdown",
   "metadata": {},
   "source": [
    "I'll start your network, you build the rest:"
   ]
  },
  {
   "cell_type": "code",
   "execution_count": null,
   "metadata": {},
   "outputs": [],
   "source": [
    "img_input = Input(shape=(256, 256, 1))"
   ]
  },
  {
   "cell_type": "markdown",
   "metadata": {},
   "source": [
    "## <font color='red'>Enter your model below.</font> \n",
    "Hint: the final layer should have linear activation with 1 output"
   ]
  },
  {
   "cell_type": "code",
   "execution_count": null,
   "metadata": {},
   "outputs": [],
   "source": [
    "x = ?(img_input)"
   ]
  },
  {
   "cell_type": "markdown",
   "metadata": {},
   "source": [
    "Create model."
   ]
  },
  {
   "cell_type": "code",
   "execution_count": null,
   "metadata": {},
   "outputs": [],
   "source": [
    "model = Model(inputs=img_input, outputs=x)    "
   ]
  },
  {
   "cell_type": "markdown",
   "metadata": {},
   "source": [
    "## <font color='red'>Compile your model</font> \n",
    "Use the \"mean_squared_error\" loss function (or try something different! Look up Keras loss functions on Google). Monitor the \"mse\" metric."
   ]
  },
  {
   "cell_type": "code",
   "execution_count": null,
   "metadata": {},
   "outputs": [],
   "source": [
    "model.compile()"
   ]
  },
  {
   "cell_type": "markdown",
   "metadata": {},
   "source": [
    "Fit the model. Modify the epochs/batch_size as needed. "
   ]
  },
  {
   "cell_type": "code",
   "execution_count": null,
   "metadata": {},
   "outputs": [],
   "source": [
    "history = model.fit(x=X_train, y=Y_train, batch_size=15, epochs=50,\n",
    "                   validation_data = (X_val, Y_val), shuffle=True)"
   ]
  },
  {
   "cell_type": "markdown",
   "metadata": {},
   "source": [
    "Plot the training/validation loss"
   ]
  },
  {
   "cell_type": "code",
   "execution_count": null,
   "metadata": {},
   "outputs": [],
   "source": [
    "mse = history.history['mean_squared_error']\n",
    "val_mse = history.history['val_mean_squared_error']   #validation\n",
    "epochs = range(1,len(mse)+1)\n",
    "plt.plot(epochs,mse,'bo', label='Training mse')\n",
    "plt.plot(epochs,val_mse,'b', label='Validation mse')\n",
    "plt.legend()\n",
    "plt.show()"
   ]
  },
  {
   "cell_type": "markdown",
   "metadata": {},
   "source": [
    "This is the code to use to evaluate your network -- don't change it. Take a screen shot of the output to submit to the competition! (everyone should submit)"
   ]
  },
  {
   "cell_type": "code",
   "execution_count": null,
   "metadata": {},
   "outputs": [],
   "source": [
    "Y_pred = model.predict(X_test, batch_size=30)   \n",
    "Y_pred = np.squeeze(Y_pred)  #remove the singleton dimension for analysis\n",
    "Y_test = np.squeeze(Y_test)  \n",
    "plt.scatter(Y_test, Y_pred, s=2)\n",
    "plt.xlabel('True age')\n",
    "plt.ylabel('Predicted age')\n",
    "plt.show()\n",
    "corr = np.corrcoef(Y_pred, Y_test)   #get correlation matrix\n",
    "print(\"Correlation coefficient: \" + str(corr[0,1]))"
   ]
  }
 ],
 "metadata": {
  "kernelspec": {
   "display_name": "Python 3",
   "language": "python",
   "name": "python3"
  },
  "language_info": {
   "codemirror_mode": {
    "name": "ipython",
    "version": 3
   },
   "file_extension": ".py",
   "mimetype": "text/x-python",
   "name": "python",
   "nbconvert_exporter": "python",
   "pygments_lexer": "ipython3",
   "version": "3.6.3"
  }
 },
 "nbformat": 4,
 "nbformat_minor": 2
}
