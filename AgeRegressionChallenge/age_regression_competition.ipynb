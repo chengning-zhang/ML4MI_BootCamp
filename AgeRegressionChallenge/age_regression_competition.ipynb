{
  "nbformat": 4,
  "nbformat_minor": 0,
  "metadata": {
    "kernelspec": {
      "name": "python3",
      "display_name": "Python 3"
    },
    "language_info": {
      "codemirror_mode": {
        "name": "ipython",
        "version": 3
      },
      "file_extension": ".py",
      "mimetype": "text/x-python",
      "name": "python",
      "nbconvert_exporter": "python",
      "pygments_lexer": "ipython3",
      "version": "3.6.3"
    },
    "colab": {
      "name": "age_regression_competition.ipynb",
      "version": "0.3.2",
      "provenance": [],
      "toc_visible": true
    },
    "accelerator": "GPU"
  },
  "cells": [
    {
      "cell_type": "code",
      "metadata": {
        "id": "wW5nbFKxdboN",
        "colab_type": "code",
        "colab": {}
      },
      "source": [
        "from google.colab import drive\n",
        "drive.mount('/content/drive')"
      ],
      "execution_count": 0,
      "outputs": []
    },
    {
      "cell_type": "code",
      "metadata": {
        "id": "QGolRNlFdc7l",
        "colab_type": "code",
        "colab": {}
      },
      "source": [
        "!echo \"Copying Data Locally (Age Regression)\"\n",
        "!tar xf \"/content/drive/My Drive/ML4MI_BOOTCAMP_DATA/AgeRegressionChallenge.tar\" --directory /home/\n"
      ],
      "execution_count": 0,
      "outputs": []
    },
    {
      "cell_type": "code",
      "metadata": {
        "id": "Xpnw04u9csRF",
        "colab_type": "code",
        "colab": {}
      },
      "source": [
        "from matplotlib import pyplot as plt\n",
        "import numpy as np\n",
        "import h5py\n",
        "from tensorflow.keras import optimizers\n",
        "from tensorflow.keras.models import Model \n",
        "from tensorflow.keras.layers import Conv2D \n",
        "from tensorflow.keras.layers import MaxPooling2D\n",
        "from tensorflow.keras.layers import BatchNormalization\n",
        "from tensorflow.keras.layers import Input\n",
        "from tensorflow.keras.layers import Flatten\n",
        "from tensorflow.keras.layers import Dense"
      ],
      "execution_count": 0,
      "outputs": []
    },
    {
      "cell_type": "markdown",
      "metadata": {
        "id": "ItiHjOi2csRH",
        "colab_type": "text"
      },
      "source": [
        "Load training, validation, and testing data.\n",
        "Convert to nummpy array, add singleton dimension in channel position (1 channel -- grayscale). Edit path as needed."
      ]
    },
    {
      "cell_type": "code",
      "metadata": {
        "id": "_E-ERQ73csRH",
        "colab_type": "code",
        "colab": {}
      },
      "source": [
        "datapath = '/home/AgeRegressionChallenge/Data/Pneumothorax.h5'\n",
        "\n",
        "with h5py.File(datapath,'r') as f:\n",
        "    X_test = np.array(f.get('input_test')).astype(np.float32)[:,:,:,np.newaxis]\n",
        "    Y_test = np.array(f.get('target_test')).astype(np.float32)[:,np.newaxis]   \n",
        "    X_train = np.array(f.get('input_train')).astype(np.float32)[:,:,:,np.newaxis]  \n",
        "    Y_train = np.array(f.get('target_train')).astype(np.float32)[:,np.newaxis]   \n",
        "    X_val =  np.array(f.get('input_val')).astype(np.float32)[:,:,:,np.newaxis]   \n",
        "    Y_val = np.array(f.get('target_val')).astype(np.float32)[:,np.newaxis]   \n"
      ],
      "execution_count": 0,
      "outputs": []
    },
    {
      "cell_type": "markdown",
      "metadata": {
        "id": "rdTUst1GcsRJ",
        "colab_type": "text"
      },
      "source": [
        "I'll start your network, you build the rest:"
      ]
    },
    {
      "cell_type": "code",
      "metadata": {
        "id": "EY51XBz_csRJ",
        "colab_type": "code",
        "colab": {}
      },
      "source": [
        "img_input = Input(shape=(256, 256, 1))"
      ],
      "execution_count": 0,
      "outputs": []
    },
    {
      "cell_type": "markdown",
      "metadata": {
        "id": "j3MP9vTycsRL",
        "colab_type": "text"
      },
      "source": [
        "## <font color='red'>Enter your model below.</font> \n",
        "Hint: the final layer should have linear activation with 1 output"
      ]
    },
    {
      "cell_type": "code",
      "metadata": {
        "id": "SXB4Wk3JcsRM",
        "colab_type": "code",
        "colab": {}
      },
      "source": [
        "x = ?(img_input)"
      ],
      "execution_count": 0,
      "outputs": []
    },
    {
      "cell_type": "markdown",
      "metadata": {
        "id": "_BOIkUbLcsRN",
        "colab_type": "text"
      },
      "source": [
        "Create model."
      ]
    },
    {
      "cell_type": "code",
      "metadata": {
        "id": "pnIhckRxcsRO",
        "colab_type": "code",
        "colab": {}
      },
      "source": [
        "model = Model(inputs=img_input, outputs=x)    "
      ],
      "execution_count": 0,
      "outputs": []
    },
    {
      "cell_type": "markdown",
      "metadata": {
        "id": "PMIYQ2eLcsRP",
        "colab_type": "text"
      },
      "source": [
        "## <font color='red'>Compile your model</font> \n",
        "Use the \"mean_squared_error\" loss function (or try something different! Look up Keras loss functions on Google). Monitor the \"mse\" metric."
      ]
    },
    {
      "cell_type": "code",
      "metadata": {
        "id": "X5hvLIffcsRQ",
        "colab_type": "code",
        "colab": {}
      },
      "source": [
        "model.compile(?)"
      ],
      "execution_count": 0,
      "outputs": []
    },
    {
      "cell_type": "markdown",
      "metadata": {
        "id": "m0Rr4pgCcsRS",
        "colab_type": "text"
      },
      "source": [
        "Fit the model. Modify the epochs/batch_size as needed. "
      ]
    },
    {
      "cell_type": "code",
      "metadata": {
        "id": "-Kalq8OzcsRS",
        "colab_type": "code",
        "colab": {}
      },
      "source": [
        "history = model.fit(x=X_train, y=Y_train, batch_size=15, epochs=50,\n",
        "                   validation_data = (X_val, Y_val), shuffle=True)"
      ],
      "execution_count": 0,
      "outputs": []
    },
    {
      "cell_type": "markdown",
      "metadata": {
        "id": "yA_Rf-IGcsRU",
        "colab_type": "text"
      },
      "source": [
        "Plot the training/validation loss"
      ]
    },
    {
      "cell_type": "code",
      "metadata": {
        "id": "H7H3E5EacsRV",
        "colab_type": "code",
        "colab": {}
      },
      "source": [
        "mse = history.history['mean_squared_error']\n",
        "val_mse = history.history['val_mean_squared_error']   #validation\n",
        "epochs = range(1,len(mse)+1)\n",
        "plt.plot(epochs,mse,'bo', label='Training mse')\n",
        "plt.plot(epochs,val_mse,'b', label='Validation mse')\n",
        "plt.legend()\n",
        "plt.show()"
      ],
      "execution_count": 0,
      "outputs": []
    },
    {
      "cell_type": "markdown",
      "metadata": {
        "id": "W_j593KNcsRY",
        "colab_type": "text"
      },
      "source": [
        "This is the code to use to evaluate your network -- don't change it. Take a screen shot of the output to submit to the competition! (everyone should submit)"
      ]
    },
    {
      "cell_type": "code",
      "metadata": {
        "id": "DfFhZpTocsRY",
        "colab_type": "code",
        "colab": {}
      },
      "source": [
        "Y_pred = model.predict(X_test, batch_size=30)   \n",
        "Y_pred = np.squeeze(Y_pred)  #remove the singleton dimension for analysis\n",
        "Y_test = np.squeeze(Y_test)  \n",
        "plt.scatter(Y_test, Y_pred, s=2)\n",
        "plt.xlabel('True age')\n",
        "plt.ylabel('Predicted age')\n",
        "plt.show()\n",
        "corr = np.corrcoef(Y_pred, Y_test)   #get correlation matrix\n",
        "print(\"Correlation coefficient: \" + str(corr[0,1]))"
      ],
      "execution_count": 0,
      "outputs": []
    },
    {
      "cell_type": "code",
      "metadata": {
        "id": "DP9D78MLmlvz",
        "colab_type": "code",
        "colab": {}
      },
      "source": [
        ""
      ],
      "execution_count": 0,
      "outputs": []
    }
  ]
}