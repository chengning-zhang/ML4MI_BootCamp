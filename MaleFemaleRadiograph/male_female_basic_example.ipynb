{
  "nbformat": 4,
  "nbformat_minor": 0,
  "metadata": {
    "colab": {
      "name": "male_female_basic_example.ipynb",
      "version": "0.3.2",
      "provenance": [],
      "include_colab_link": true
    },
    "kernelspec": {
      "display_name": "Python 3",
      "language": "python",
      "name": "python3"
    },
    "accelerator": "GPU"
  },
  "cells": [
    {
      "cell_type": "markdown",
      "metadata": {
        "id": "view-in-github",
        "colab_type": "text"
      },
      "source": [
        "[View in Colaboratory](https://colab.research.google.com/github/kmjohnson3/ML4MI_BootCamp/blob/master/MaleFemaleRadiograph/male_female_basic_example.ipynb)"
      ]
    },
    {
      "metadata": {
        "id": "R0TZKhgBSiA8",
        "colab_type": "text"
      },
      "cell_type": "markdown",
      "source": [
        "## Setup packages and data\n",
        "First import the packages you'll need. From Keras, we'll need an data generator package, layers package, a package containing optimizres, and a package that builds/configures models."
      ]
    },
    {
      "metadata": {
        "id": "D7zJx0t7SiA9",
        "colab_type": "code",
        "colab": {}
      },
      "cell_type": "code",
      "source": [
        "import os\n",
        "os.environ['KERAS_BACKEND'] = 'tensorflow'"
      ],
      "execution_count": 0,
      "outputs": []
    },
    {
      "metadata": {
        "id": "C9iS7xV-SiBC",
        "colab_type": "code",
        "colab": {
          "base_uri": "https://localhost:8080/",
          "height": 35
        },
        "outputId": "7e55e80c-8eed-48ee-c5d2-3a203c820c16"
      },
      "cell_type": "code",
      "source": [
        "from keras import optimizers\n",
        "from keras.models import Model \n",
        "from keras import layers\n",
        "from keras.preprocessing.image import ImageDataGenerator"
      ],
      "execution_count": 2,
      "outputs": [
        {
          "output_type": "stream",
          "text": [
            "Using TensorFlow backend.\n"
          ],
          "name": "stderr"
        }
      ]
    },
    {
      "metadata": {
        "id": "Jva0yPcXS7Sh",
        "colab_type": "code",
        "colab": {
          "base_uri": "https://localhost:8080/",
          "height": 401
        },
        "outputId": "205eddfb-88dd-4e39-f5fd-bac862559687"
      },
      "cell_type": "code",
      "source": [
        "# This is the command to get the data for linux. For windows please manually install and place \"data\" in the same folder\n",
        "!wget https://uwmadison.box.com/shared/static/jjg456te6od73pct27jj8sxn12gpi433.zip\n",
        "!unzip -q -o jjg456te6od73pct27jj8sxn12gpi433.zip  \n",
        "  "
      ],
      "execution_count": 5,
      "outputs": [
        {
          "output_type": "stream",
          "text": [
            "--2018-07-31 21:56:25--  https://uwmadison.box.com/shared/static/jjg456te6od73pct27jj8sxn12gpi433.zip\n",
            "Resolving uwmadison.box.com (uwmadison.box.com)... 107.152.27.197\n",
            "Connecting to uwmadison.box.com (uwmadison.box.com)|107.152.27.197|:443... connected.\n",
            "HTTP request sent, awaiting response... 301 Moved Permanently\n",
            "Location: https://uwmadison.app.box.com/shared/static/jjg456te6od73pct27jj8sxn12gpi433.zip [following]\n",
            "--2018-07-31 21:56:25--  https://uwmadison.app.box.com/shared/static/jjg456te6od73pct27jj8sxn12gpi433.zip\n",
            "Resolving uwmadison.app.box.com (uwmadison.app.box.com)... 107.152.27.199, 107.152.26.199\n",
            "Connecting to uwmadison.app.box.com (uwmadison.app.box.com)|107.152.27.199|:443... connected.\n",
            "HTTP request sent, awaiting response... 302 Found\n",
            "Location: https://public.boxcloud.com/d/1/b1!3Cd0n_BvvIRbdV7b4rZjS_RUgqkLrj68pV9HVi5e9lp5wevSGPY4Vn-uemW25fAUyuSmKWC2qISclkS7lXbvF0EoGZ_ydZOKAjfidTGTyW6tAoyijVndrSotbu3fjNKY9qpYlL53B-GQUEjrou7egkiJzQo_s2E-gCaEXZ6H8-TJMgNU5xad05XWkiMRg1HgCUys_uA45XcoDkePVzGRS9DeueOZ7xdvmLoVXx_zrgtiZ4QLcCE6Au4lbCKD-OWEUXnlZEv4bNJ1J8rkf4_tb_um6smEPKm26VKr97pUR_yxWOqbc0BQtcUlnXLoWjnukff91Opb57JWJiTvetvmLmH2klpFezsYNR3ciR8Z5wqBmzY40sKw0AWShqv7Bc2pS1A96uaLnIbAtssvrBvcRwO5l2voSZo8mmTDppAsyMLfNubWbGsTp1ngYs3ulfvTN3x3taWDhSYyxOcvY-NlBna3tIkMZHXjaUH7I_Zh0W_kyTLiGM0g4tEptXB4_QurI5yCwaPdvWT-mofyS-R0BeKYw-UhnMDOR6KSWqFm-4dW0xlK93QLzYyCMWnpOpZhlivSvS_KnYWCjgNjitSp6xS7nMQ1mQitheQJmNLJdewUil6WhzSzaEDZtIZUMWb6c9Njoxs0bSVf5U05qhtgxevsyF2YYPGSzUy_4WbUzic9WSJuhmnBCRuMnlfDcuZ7PJRMp1lFx8sJ_g9tKk7Kek09zS2IQiodDp6PwA4v65WSpyeKGTWpO2tvc5ZIHxI_VOK3F-AXty08i5giN9gCn-JNdnfVuYIaV6bsHy0ijeTCGszXo9HWpnbrJlKAtEWT979C-6NBYyNu8Qu902V2R6fdpEsIMtXkYy-_0UN0t6AfeR34XaknoG15kwbQf47DNec60_oyzlcUxm2goAKh2Nz9S7mu90PABxqiNNsPkEijX1Q4Ur6iuAyrv14Z3RQYGPVcKGtng4W3QTOydFZJjfvvyxNyC4vQjcryp7X7EdGZqiMU2ZIT2hmrWFZqZ4b1_tmgLERlXvy7qxeWTLthUFGWvVIExwMTH4B6YRvHVn3Z2l1sRdz1s8b7D5T-PHO17Dt-_kyAhmst8DQk3EgaDqB7MqPEPBQsb0AKa9x6AA8cIYT4FkKmbME33LdxVDz3d2rZbZdAN83Y1H4LxnGqhZOwoi-eF1AqHy-KLDaKo4y42VGMnMpBhNEVoEv4RtHyz0KfwQtTeTGYWxvm3pvzwz9v9ET63RpKqLFudnFiaFVtA0TFB3d-5bkiQ88KnzXp8bCriJuKxYyg9vcz0Kk0Nxzxhw-C5ISxcflsDg5abliwt3lAhqjtmSyk_YZzBp0XC-cLkoTvb5oGpVr2hACo6NaL--gC_NZVKnddSIbgdQ../download [following]\n",
            "--2018-07-31 21:56:26--  https://public.boxcloud.com/d/1/b1!3Cd0n_BvvIRbdV7b4rZjS_RUgqkLrj68pV9HVi5e9lp5wevSGPY4Vn-uemW25fAUyuSmKWC2qISclkS7lXbvF0EoGZ_ydZOKAjfidTGTyW6tAoyijVndrSotbu3fjNKY9qpYlL53B-GQUEjrou7egkiJzQo_s2E-gCaEXZ6H8-TJMgNU5xad05XWkiMRg1HgCUys_uA45XcoDkePVzGRS9DeueOZ7xdvmLoVXx_zrgtiZ4QLcCE6Au4lbCKD-OWEUXnlZEv4bNJ1J8rkf4_tb_um6smEPKm26VKr97pUR_yxWOqbc0BQtcUlnXLoWjnukff91Opb57JWJiTvetvmLmH2klpFezsYNR3ciR8Z5wqBmzY40sKw0AWShqv7Bc2pS1A96uaLnIbAtssvrBvcRwO5l2voSZo8mmTDppAsyMLfNubWbGsTp1ngYs3ulfvTN3x3taWDhSYyxOcvY-NlBna3tIkMZHXjaUH7I_Zh0W_kyTLiGM0g4tEptXB4_QurI5yCwaPdvWT-mofyS-R0BeKYw-UhnMDOR6KSWqFm-4dW0xlK93QLzYyCMWnpOpZhlivSvS_KnYWCjgNjitSp6xS7nMQ1mQitheQJmNLJdewUil6WhzSzaEDZtIZUMWb6c9Njoxs0bSVf5U05qhtgxevsyF2YYPGSzUy_4WbUzic9WSJuhmnBCRuMnlfDcuZ7PJRMp1lFx8sJ_g9tKk7Kek09zS2IQiodDp6PwA4v65WSpyeKGTWpO2tvc5ZIHxI_VOK3F-AXty08i5giN9gCn-JNdnfVuYIaV6bsHy0ijeTCGszXo9HWpnbrJlKAtEWT979C-6NBYyNu8Qu902V2R6fdpEsIMtXkYy-_0UN0t6AfeR34XaknoG15kwbQf47DNec60_oyzlcUxm2goAKh2Nz9S7mu90PABxqiNNsPkEijX1Q4Ur6iuAyrv14Z3RQYGPVcKGtng4W3QTOydFZJjfvvyxNyC4vQjcryp7X7EdGZqiMU2ZIT2hmrWFZqZ4b1_tmgLERlXvy7qxeWTLthUFGWvVIExwMTH4B6YRvHVn3Z2l1sRdz1s8b7D5T-PHO17Dt-_kyAhmst8DQk3EgaDqB7MqPEPBQsb0AKa9x6AA8cIYT4FkKmbME33LdxVDz3d2rZbZdAN83Y1H4LxnGqhZOwoi-eF1AqHy-KLDaKo4y42VGMnMpBhNEVoEv4RtHyz0KfwQtTeTGYWxvm3pvzwz9v9ET63RpKqLFudnFiaFVtA0TFB3d-5bkiQ88KnzXp8bCriJuKxYyg9vcz0Kk0Nxzxhw-C5ISxcflsDg5abliwt3lAhqjtmSyk_YZzBp0XC-cLkoTvb5oGpVr2hACo6NaL--gC_NZVKnddSIbgdQ../download\n",
            "Resolving public.boxcloud.com (public.boxcloud.com)... 107.152.27.200, 107.152.26.200\n",
            "Connecting to public.boxcloud.com (public.boxcloud.com)|107.152.27.200|:443... connected.\n",
            "HTTP request sent, awaiting response... 200 OK\n",
            "Length: 231646580 (221M) [application/zip]\n",
            "Saving to: ‘jjg456te6od73pct27jj8sxn12gpi433.zip.2’\n",
            "\n",
            "d73pct27jj8sxn12gpi  33%[=====>              ]  74.97M  18.6MB/s    eta 8s     "
          ],
          "name": "stdout"
        },
        {
          "output_type": "stream",
          "text": [
            "jjg456te6od73pct27j 100%[===================>] 220.92M  19.0MB/s    in 12s     \n",
            "\n",
            "2018-07-31 21:56:38 (18.9 MB/s) - ‘jjg456te6od73pct27jj8sxn12gpi433.zip.2’ saved [231646580/231646580]\n",
            "\n"
          ],
          "name": "stdout"
        }
      ]
    },
    {
      "metadata": {
        "id": "yTOhwmFnSiBI",
        "colab_type": "text"
      },
      "cell_type": "markdown",
      "source": [
        "Define data location and image dimensions. Data is split into train (50%), validate (25%), and test (25%).\n",
        "We'll use Kera's ImageDataGenerator method to read in the data. Data (.png files) is sorted into folders with the following structure\n",
        "train/\n",
        "    Class1/\n",
        "            xx1.png\n",
        "            xx2.png\n",
        "            ...\n",
        "    Class2/\n",
        "            yy1.png\n",
        "            yy2.png\n",
        "test/\n",
        "    Class1/  ...\n",
        "    Class2/  ...\n",
        "validation/\n",
        "    Class1/ ...\n",
        "    Class2/ ...\n",
        "\n",
        "We tell Keras where the directories are. It counts the number of subfolders and makes each one a class."
      ]
    },
    {
      "metadata": {
        "id": "B68WRHghSiBJ",
        "colab_type": "code",
        "colab": {}
      },
      "cell_type": "code",
      "source": [
        "data_home_dir = 'data/'\n",
        "train_dir = data_home_dir + 'train'\n",
        "validation_dir = data_home_dir + 'validation'\n",
        "dims = 256"
      ],
      "execution_count": 0,
      "outputs": []
    },
    {
      "metadata": {
        "id": "Qm5QJIzvSiBM",
        "colab_type": "text"
      },
      "cell_type": "markdown",
      "source": [
        "When we define the ImageDataGenerator object, we tell it to normalize the .png images by the max (255)"
      ]
    },
    {
      "metadata": {
        "id": "VJIruauGSiBN",
        "colab_type": "code",
        "colab": {}
      },
      "cell_type": "code",
      "source": [
        "train_datagen = ImageDataGenerator(rescale=1./255)\n",
        "valid_datagen = ImageDataGenerator(rescale=1./255)"
      ],
      "execution_count": 0,
      "outputs": []
    },
    {
      "metadata": {
        "id": "dWTH4twUSiBQ",
        "colab_type": "text"
      },
      "cell_type": "markdown",
      "source": [
        "Keras will read the files continuously from disk. We tell it where to read, how many to read at a time, what dimensions to resample the images to, and how many image channels there are. These generators will then generate batches of images. "
      ]
    },
    {
      "metadata": {
        "id": "JTJ5jV3TSiBR",
        "colab_type": "code",
        "colab": {
          "base_uri": "https://localhost:8080/",
          "height": 52
        },
        "outputId": "32a04bd6-2de6-47d9-ebe7-d6f1d4db0d5c"
      },
      "cell_type": "code",
      "source": [
        "train_generator =      train_datagen.flow_from_directory(train_dir, batch_size=20, target_size=(dims,dims), class_mode='binary', color_mode='grayscale')\n",
        "validation_generator = valid_datagen.flow_from_directory(validation_dir,batch_size=20, target_size=(dims,dims), class_mode='binary',color_mode='grayscale')"
      ],
      "execution_count": 8,
      "outputs": [
        {
          "output_type": "stream",
          "text": [
            "Found 2602 images belonging to 2 classes.\n",
            "Found 600 images belonging to 2 classes.\n"
          ],
          "name": "stdout"
        }
      ]
    },
    {
      "metadata": {
        "id": "-YPRRjfOSiBV",
        "colab_type": "text"
      },
      "cell_type": "markdown",
      "source": [
        "\n",
        "## Build network \n",
        "First part of the graph is the input, which, at this point, we only need to tell it its shape (we'll define where the inputs come from when we build the model later)"
      ]
    },
    {
      "metadata": {
        "id": "EexLFjjuSiBW",
        "colab_type": "code",
        "colab": {}
      },
      "cell_type": "code",
      "source": [
        "img_input = layers.Input(shape=(dims,dims,1))"
      ],
      "execution_count": 0,
      "outputs": []
    },
    {
      "metadata": {
        "id": "787x2GgcSiBZ",
        "colab_type": "text"
      },
      "cell_type": "markdown",
      "source": [
        "Now we build our layers of the network. The format is layer_name(_config_info_)(_input_to_layer_).\n",
        "Try a simple layer with 1 convolution, max pooling, and a fully-connected layer (these are _not_ the best parameters)."
      ]
    },
    {
      "metadata": {
        "id": "CJ0a7in6SiBa",
        "colab_type": "code",
        "colab": {}
      },
      "cell_type": "code",
      "source": [
        "x = layers.Conv2D(15, (3, 3), strides=(4,4), padding='same', kernel_initializer='he_normal')(img_input)\n",
        "x = layers.Activation('relu')(x)\n",
        "x = layers.MaxPooling2D((2, 2), strides=None)(x)\n",
        "x = layers.Flatten()(x)     #reshape to 1xN\n",
        "x = layers.Dense(20, activation='relu', kernel_initializer='he_normal')(x)\n",
        "x = layers.Dense(1, activation='sigmoid')(x)    #sigmoid for binary"
      ],
      "execution_count": 0,
      "outputs": []
    },
    {
      "metadata": {
        "id": "_ZdGrNzMSiBe",
        "colab_type": "text"
      },
      "cell_type": "markdown",
      "source": [
        "## Configure and train model\n",
        "We define our model, define the input(s) and output(s). "
      ]
    },
    {
      "metadata": {
        "id": "IKDgCmOLSiBf",
        "colab_type": "code",
        "colab": {}
      },
      "cell_type": "code",
      "source": [
        "model = Model(inputs=img_input, outputs=x)"
      ],
      "execution_count": 0,
      "outputs": []
    },
    {
      "metadata": {
        "id": "MnyZIKs_SiBi",
        "colab_type": "text"
      },
      "cell_type": "markdown",
      "source": [
        "We then compile it and determine our loss function, our optimizer, and the metrics we want to calculate. This builds the \"graph\" of our model and computes the functions needed to train it."
      ]
    },
    {
      "metadata": {
        "id": "fxl0-TbQSiBj",
        "colab_type": "code",
        "colab": {}
      },
      "cell_type": "code",
      "source": [
        "model.compile(loss = \"binary_crossentropy\", optimizer = optimizers.RMSprop(lr=1e-5), metrics=[\"acc\"])"
      ],
      "execution_count": 0,
      "outputs": []
    },
    {
      "metadata": {
        "id": "ECxchiaNSiBk",
        "colab_type": "text"
      },
      "cell_type": "markdown",
      "source": [
        "This next steps kicks off the network training. This is where we actually feed the compiled model the data (in batches)."
      ]
    },
    {
      "metadata": {
        "id": "RfIba-7DSiBl",
        "colab_type": "code",
        "colab": {
          "base_uri": "https://localhost:8080/",
          "height": 1231
        },
        "outputId": "9e8f405c-dcd3-4d8f-e318-79ef3a862675"
      },
      "cell_type": "code",
      "source": [
        "history = model.fit_generator(train_generator, steps_per_epoch=130, epochs=35, \n",
        "                              validation_data=validation_generator, validation_steps=30)"
      ],
      "execution_count": 13,
      "outputs": [
        {
          "output_type": "stream",
          "text": [
            "Epoch 1/35\n",
            "130/130 [==============================] - 13s 98ms/step - loss: 0.6802 - acc: 0.5608 - val_loss: 0.6510 - val_acc: 0.6000\n",
            "Epoch 2/35\n",
            "130/130 [==============================] - 11s 87ms/step - loss: 0.6448 - acc: 0.6288 - val_loss: 0.6353 - val_acc: 0.6567\n",
            "Epoch 3/35\n",
            "130/130 [==============================] - 11s 87ms/step - loss: 0.6295 - acc: 0.6508 - val_loss: 0.6231 - val_acc: 0.6733\n",
            "Epoch 4/35\n",
            " 32/130 [======>.......................] - ETA: 6s - loss: 0.6059 - acc: 0.6734"
          ],
          "name": "stdout"
        },
        {
          "output_type": "stream",
          "text": [
            "130/130 [==============================] - 11s 87ms/step - loss: 0.6140 - acc: 0.6715 - val_loss: 0.6103 - val_acc: 0.6633\n",
            "Epoch 5/35\n",
            "130/130 [==============================] - 11s 87ms/step - loss: 0.6053 - acc: 0.6743 - val_loss: 0.6026 - val_acc: 0.6433\n",
            "Epoch 6/35\n",
            "130/130 [==============================] - 11s 86ms/step - loss: 0.5952 - acc: 0.7011 - val_loss: 0.6079 - val_acc: 0.6767\n",
            "Epoch 7/35\n",
            " 50/130 [==========>...................] - ETA: 5s - loss: 0.5932 - acc: 0.6830"
          ],
          "name": "stdout"
        },
        {
          "output_type": "stream",
          "text": [
            "130/130 [==============================] - 11s 88ms/step - loss: 0.5896 - acc: 0.6935 - val_loss: 0.5952 - val_acc: 0.6350\n",
            "Epoch 8/35\n",
            "130/130 [==============================] - 11s 86ms/step - loss: 0.5801 - acc: 0.7081 - val_loss: 0.6053 - val_acc: 0.6833\n",
            "Epoch 9/35\n",
            "130/130 [==============================] - 11s 88ms/step - loss: 0.5761 - acc: 0.7169 - val_loss: 0.6055 - val_acc: 0.6850\n",
            "Epoch 10/35\n",
            " 57/130 [============>.................] - ETA: 4s - loss: 0.5520 - acc: 0.7430"
          ],
          "name": "stdout"
        },
        {
          "output_type": "stream",
          "text": [
            "130/130 [==============================] - 11s 87ms/step - loss: 0.5686 - acc: 0.7230 - val_loss: 0.5883 - val_acc: 0.6683\n",
            "Epoch 11/35\n",
            "130/130 [==============================] - 11s 88ms/step - loss: 0.5638 - acc: 0.7200 - val_loss: 0.5877 - val_acc: 0.6733\n",
            "Epoch 12/35\n",
            "130/130 [==============================] - 11s 88ms/step - loss: 0.5553 - acc: 0.7323 - val_loss: 0.6052 - val_acc: 0.6900\n",
            "Epoch 13/35\n",
            " 62/130 [=============>................] - ETA: 4s - loss: 0.5615 - acc: 0.7161"
          ],
          "name": "stdout"
        },
        {
          "output_type": "stream",
          "text": [
            "130/130 [==============================] - 11s 88ms/step - loss: 0.5574 - acc: 0.7285 - val_loss: 0.5800 - val_acc: 0.6600\n",
            "Epoch 14/35\n",
            "130/130 [==============================] - 11s 86ms/step - loss: 0.5500 - acc: 0.7296 - val_loss: 0.5878 - val_acc: 0.6917\n",
            "Epoch 15/35\n",
            "130/130 [==============================] - 11s 85ms/step - loss: 0.5413 - acc: 0.7446 - val_loss: 0.5788 - val_acc: 0.6900\n",
            "Epoch 16/35\n",
            " 62/130 [=============>................] - ETA: 4s - loss: 0.5419 - acc: 0.7476"
          ],
          "name": "stdout"
        },
        {
          "output_type": "stream",
          "text": [
            "130/130 [==============================] - 12s 89ms/step - loss: 0.5493 - acc: 0.7404 - val_loss: 0.5736 - val_acc: 0.6850\n",
            "Epoch 17/35\n",
            "130/130 [==============================] - 11s 84ms/step - loss: 0.5398 - acc: 0.7435 - val_loss: 0.5711 - val_acc: 0.6617\n",
            "Epoch 18/35\n",
            "130/130 [==============================] - 11s 84ms/step - loss: 0.5357 - acc: 0.7408 - val_loss: 0.5668 - val_acc: 0.6783\n",
            "Epoch 19/35\n",
            " 65/130 [==============>...............] - ETA: 3s - loss: 0.5250 - acc: 0.7469"
          ],
          "name": "stdout"
        },
        {
          "output_type": "stream",
          "text": [
            "130/130 [==============================] - 11s 85ms/step - loss: 0.5317 - acc: 0.7419 - val_loss: 0.5621 - val_acc: 0.6800\n",
            "Epoch 20/35\n",
            "130/130 [==============================] - 11s 85ms/step - loss: 0.5257 - acc: 0.7511 - val_loss: 0.5659 - val_acc: 0.6683\n",
            "Epoch 21/35\n",
            "130/130 [==============================] - 11s 85ms/step - loss: 0.5267 - acc: 0.7485 - val_loss: 0.5573 - val_acc: 0.6833\n",
            "Epoch 22/35\n",
            " 65/130 [==============>...............] - ETA: 4s - loss: 0.5179 - acc: 0.7500"
          ],
          "name": "stdout"
        },
        {
          "output_type": "stream",
          "text": [
            "130/130 [==============================] - 11s 85ms/step - loss: 0.5237 - acc: 0.7504 - val_loss: 0.5590 - val_acc: 0.6700\n",
            "Epoch 23/35\n",
            "130/130 [==============================] - 11s 86ms/step - loss: 0.5196 - acc: 0.7608 - val_loss: 0.5566 - val_acc: 0.6683\n",
            "Epoch 24/35\n",
            "130/130 [==============================] - 11s 86ms/step - loss: 0.5117 - acc: 0.7546 - val_loss: 0.5910 - val_acc: 0.6950\n",
            "Epoch 25/35\n",
            " 65/130 [==============>...............] - ETA: 3s - loss: 0.5187 - acc: 0.7677"
          ],
          "name": "stdout"
        },
        {
          "output_type": "stream",
          "text": [
            "130/130 [==============================] - 11s 86ms/step - loss: 0.5118 - acc: 0.7715 - val_loss: 0.5533 - val_acc: 0.7067\n",
            "Epoch 26/35\n",
            "130/130 [==============================] - 11s 84ms/step - loss: 0.5105 - acc: 0.7577 - val_loss: 0.5596 - val_acc: 0.6800\n",
            "Epoch 27/35\n",
            "130/130 [==============================] - 11s 84ms/step - loss: 0.5084 - acc: 0.7765 - val_loss: 0.5455 - val_acc: 0.6967\n",
            "Epoch 28/35\n",
            " 65/130 [==============>...............] - ETA: 3s - loss: 0.5101 - acc: 0.7562"
          ],
          "name": "stdout"
        },
        {
          "output_type": "stream",
          "text": [
            "130/130 [==============================] - 11s 85ms/step - loss: 0.5082 - acc: 0.7639 - val_loss: 0.5523 - val_acc: 0.7217\n",
            "Epoch 29/35\n",
            "130/130 [==============================] - 11s 84ms/step - loss: 0.5142 - acc: 0.7588 - val_loss: 0.5423 - val_acc: 0.7067\n",
            "Epoch 30/35\n",
            "130/130 [==============================] - 11s 83ms/step - loss: 0.4901 - acc: 0.7812 - val_loss: 0.5419 - val_acc: 0.6900\n",
            "Epoch 31/35\n",
            " 64/130 [=============>................] - ETA: 3s - loss: 0.4941 - acc: 0.7828"
          ],
          "name": "stdout"
        },
        {
          "output_type": "stream",
          "text": [
            "130/130 [==============================] - 11s 83ms/step - loss: 0.4956 - acc: 0.7792 - val_loss: 0.5408 - val_acc: 0.7183\n",
            "Epoch 32/35\n",
            "130/130 [==============================] - 11s 83ms/step - loss: 0.5027 - acc: 0.7654 - val_loss: 0.5403 - val_acc: 0.6967\n",
            "Epoch 33/35\n",
            "130/130 [==============================] - 11s 83ms/step - loss: 0.4920 - acc: 0.7781 - val_loss: 0.5337 - val_acc: 0.7017\n",
            "Epoch 34/35\n",
            " 64/130 [=============>................] - ETA: 4s - loss: 0.4981 - acc: 0.7750"
          ],
          "name": "stdout"
        },
        {
          "output_type": "stream",
          "text": [
            "130/130 [==============================] - 11s 84ms/step - loss: 0.4951 - acc: 0.7731 - val_loss: 0.5332 - val_acc: 0.7133\n",
            "Epoch 35/35\n",
            "130/130 [==============================] - 11s 83ms/step - loss: 0.4890 - acc: 0.7792 - val_loss: 0.5323 - val_acc: 0.7100\n"
          ],
          "name": "stdout"
        }
      ]
    },
    {
      "metadata": {
        "id": "Blf0r681SiBp",
        "colab_type": "text"
      },
      "cell_type": "markdown",
      "source": [
        "## Evaluate performance\n",
        "First, let's calculate the performance on our testing dataset"
      ]
    },
    {
      "metadata": {
        "id": "ORnirixPSiBq",
        "colab_type": "code",
        "colab": {
          "base_uri": "https://localhost:8080/",
          "height": 52
        },
        "outputId": "8275653f-a3de-4399-acde-4d68e5685eac"
      },
      "cell_type": "code",
      "source": [
        "test_dir = data_home_dir + 'test'\n",
        "test_datagen = ImageDataGenerator(rescale=1./255)\n",
        "test_generator = test_datagen.flow_from_directory(test_dir,batch_size=20, target_size=(dims,dims), class_mode='binary',color_mode='grayscale')\n",
        "\n",
        "#now evaluate the model using the generator\n",
        "[test_loss, test_acc] = model.evaluate_generator(test_generator, steps=600/20)\n",
        "print(\"Test_acc: \"+str(test_acc))"
      ],
      "execution_count": 14,
      "outputs": [
        {
          "output_type": "stream",
          "text": [
            "Found 601 images belonging to 2 classes.\n",
            "Test_acc: 0.7516666650772095\n"
          ],
          "name": "stdout"
        }
      ]
    },
    {
      "metadata": {
        "id": "l2vy9httSiBt",
        "colab_type": "text"
      },
      "cell_type": "markdown",
      "source": [
        "Plot the results using matplotlib"
      ]
    },
    {
      "metadata": {
        "id": "d9LxnCkvSiBt",
        "colab_type": "code",
        "colab": {
          "base_uri": "https://localhost:8080/",
          "height": 347
        },
        "outputId": "a4392d94-3a42-4f30-b60d-83c04cef599a"
      },
      "cell_type": "code",
      "source": [
        "from matplotlib import pyplot as plt\n",
        "import numpy as np\n",
        "acc = history.history['acc']\n",
        "val_acc = history.history['val_acc']\n",
        "epochs = range(1,len(acc)+1)\n",
        "plt.plot(epochs,acc,'bo', label='Training acc')\n",
        "plt.plot(epochs,val_acc,'b', label='Validation acc')\n",
        "plt.legend()\n",
        "plt.show()"
      ],
      "execution_count": 15,
      "outputs": [
        {
          "output_type": "display_data",
          "data": {
            "image/png": "[encoded data removed]",
            "text/plain": [
              "<matplotlib.figure.Figure at 0x7f020379c6a0>"
            ]
          },
          "metadata": {
            "tags": []
          }
        }
      ]
    }
  ]
}