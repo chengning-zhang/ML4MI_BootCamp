{
  "nbformat": 4,
  "nbformat_minor": 0,
  "metadata": {
    "colab": {
      "name": "male_female_basic_example.ipynb",
      "version": "0.3.2",
      "provenance": [],
      "include_colab_link": true
    },
    "kernelspec": {
      "display_name": "Python 3",
      "language": "python",
      "name": "python3"
    },
    "accelerator": "GPU"
  },
  "cells": [
    {
      "cell_type": "markdown",
      "metadata": {
        "id": "view-in-github",
        "colab_type": "text"
      },
      "source": [
        "[View in Colaboratory](https://colab.research.google.com/github/kmjohnson3/ML4MI_BootCamp/blob/master/MaleFemaleRadiograph/male_female_basic_example.ipynb)"
      ]
    },
    {
      "metadata": {
        "id": "R0TZKhgBSiA8",
        "colab_type": "text"
      },
      "cell_type": "markdown",
      "source": [
        "## Setup packages and data\n",
        "First import the packages you'll need. From Keras, we'll need an data generator package, layers package, a package containing optimizres, and a package that builds/configures models."
      ]
    },
    {
      "metadata": {
        "id": "D7zJx0t7SiA9",
        "colab_type": "code",
        "colab": {}
      },
      "cell_type": "code",
      "source": [
        "import os\n",
        "os.environ['KERAS_BACKEND'] = 'tensorflow'"
      ],
      "execution_count": 0,
      "outputs": []
    },
    {
      "metadata": {
        "id": "C9iS7xV-SiBC",
        "colab_type": "code",
        "colab": {}
      },
      "cell_type": "code",
      "source": [
        "from keras import optimizers\n",
        "from keras.models import Model \n",
        "from keras import layers\n",
        "from keras.preprocessing.image import ImageDataGenerator"
      ],
      "execution_count": 0,
      "outputs": []
    },
    {
      "metadata": {
        "id": "Jva0yPcXS7Sh",
        "colab_type": "code",
        "colab": {}
      },
      "cell_type": "code",
      "source": [
        "# This is the command to get the data for linux. For windows please manually install and place \"data\" in the same folder\n",
        "!wget https://uwmadison.box.com/shared/static/jjg456te6od73pct27jj8sxn12gpi433.zip\n",
        "!unzip -q -o jjg456te6od73pct27jj8sxn12gpi433.zip  \n",
        "  "
      ],
      "execution_count": 0,
      "outputs": []
    },
    {
      "metadata": {
        "id": "yTOhwmFnSiBI",
        "colab_type": "text"
      },
      "cell_type": "markdown",
      "source": [
        "Define data location and image dimensions. Data is split into train (50%), validate (25%), and test (25%).\n",
        "We'll use Kera's ImageDataGenerator method to read in the data. Data (.png files) is sorted into folders with the following structure\n",
        "train/\n",
        "    Class1/\n",
        "            xx1.png\n",
        "            xx2.png\n",
        "            ...\n",
        "    Class2/\n",
        "            yy1.png\n",
        "            yy2.png\n",
        "test/\n",
        "    Class1/  ...\n",
        "    Class2/  ...\n",
        "validation/\n",
        "    Class1/ ...\n",
        "    Class2/ ...\n",
        "\n",
        "We tell Keras where the directories are. It counts the number of subfolders and makes each one a class."
      ]
    },
    {
      "metadata": {
        "id": "B68WRHghSiBJ",
        "colab_type": "code",
        "colab": {}
      },
      "cell_type": "code",
      "source": [
        "data_home_dir = 'data/'\n",
        "train_dir = data_home_dir + 'train'\n",
        "validation_dir = data_home_dir + 'validation'\n",
        "dims = 256"
      ],
      "execution_count": 0,
      "outputs": []
    },
    {
      "metadata": {
        "id": "Qm5QJIzvSiBM",
        "colab_type": "text"
      },
      "cell_type": "markdown",
      "source": [
        "When we define the ImageDataGenerator object, we tell it to normalize the .png images by the max (255)"
      ]
    },
    {
      "metadata": {
        "id": "VJIruauGSiBN",
        "colab_type": "code",
        "colab": {}
      },
      "cell_type": "code",
      "source": [
        "train_datagen = ImageDataGenerator(rescale=1./255)\n",
        "valid_datagen = ImageDataGenerator(rescale=1./255)"
      ],
      "execution_count": 0,
      "outputs": []
    },
    {
      "metadata": {
        "id": "dWTH4twUSiBQ",
        "colab_type": "text"
      },
      "cell_type": "markdown",
      "source": [
        "Keras will read the files continuously from disk. We tell it where to read, how many to read at a time, what dimensions to resample the images to, and how many image channels there are. These generators will then generate batches of images. "
      ]
    },
    {
      "metadata": {
        "id": "JTJ5jV3TSiBR",
        "colab_type": "code",
        "colab": {}
      },
      "cell_type": "code",
      "source": [
        "train_generator =      train_datagen.flow_from_directory(train_dir, batch_size=20, target_size=(dims,dims), class_mode='binary', color_mode='grayscale')\n",
        "validation_generator = valid_datagen.flow_from_directory(validation_dir,batch_size=20, target_size=(dims,dims), class_mode='binary',color_mode='grayscale')"
      ],
      "execution_count": 0,
      "outputs": []
    },
    {
      "metadata": {
        "id": "-YPRRjfOSiBV",
        "colab_type": "text"
      },
      "cell_type": "markdown",
      "source": [
        "\n",
        "## Build network \n",
        "First part of the graph is the input, which, at this point, we only need to tell it its shape (we'll define where the inputs come from when we build the model later)"
      ]
    },
    {
      "metadata": {
        "id": "EexLFjjuSiBW",
        "colab_type": "code",
        "colab": {}
      },
      "cell_type": "code",
      "source": [
        "img_input = layers.Input(shape=(dims,dims,1))"
      ],
      "execution_count": 0,
      "outputs": []
    },
    {
      "metadata": {
        "id": "787x2GgcSiBZ",
        "colab_type": "text"
      },
      "cell_type": "markdown",
      "source": [
        "Now we build our layers of the network. The format is layer_name(_config_info_)(_input_to_layer_).\n",
        "Try a simple layer with 1 convolution, max pooling, and a fully-connected layer (these are _not_ the best parameters)."
      ]
    },
    {
      "metadata": {
        "id": "CJ0a7in6SiBa",
        "colab_type": "code",
        "colab": {}
      },
      "cell_type": "code",
      "source": [
        "x = layers.Conv2D(15, (3, 3), strides=(4,4), padding='same', kernel_initializer='he_normal')(img_input)\n",
        "x = layers.Activation('relu')(x)\n",
        "x = layers.MaxPooling2D((2, 2), strides=None)(x)\n",
        "x = layers.Flatten()(x)     #reshape to 1xN\n",
        "x = layers.Dense(20, activation='relu', kernel_initializer='he_normal')(x)\n",
        "x = layers.Dense(1, activation='sigmoid')(x)    #sigmoid for binary"
      ],
      "execution_count": 0,
      "outputs": []
    },
    {
      "metadata": {
        "id": "_ZdGrNzMSiBe",
        "colab_type": "text"
      },
      "cell_type": "markdown",
      "source": [
        "## Configure and train model\n",
        "We define our model, define the input(s) and output(s). "
      ]
    },
    {
      "metadata": {
        "id": "IKDgCmOLSiBf",
        "colab_type": "code",
        "colab": {}
      },
      "cell_type": "code",
      "source": [
        "model = Model(inputs=img_input, outputs=x)"
      ],
      "execution_count": 0,
      "outputs": []
    },
    {
      "metadata": {
        "id": "MnyZIKs_SiBi",
        "colab_type": "text"
      },
      "cell_type": "markdown",
      "source": [
        "We then compile it and determine our loss function, our optimizer, and the metrics we want to calculate. This builds the \"graph\" of our model and computes the functions needed to train it."
      ]
    },
    {
      "metadata": {
        "id": "fxl0-TbQSiBj",
        "colab_type": "code",
        "colab": {}
      },
      "cell_type": "code",
      "source": [
        "model.compile(loss = \"binary_crossentropy\", optimizer = optimizers.RMSprop(lr=1e-5), metrics=[\"acc\"])"
      ],
      "execution_count": 0,
      "outputs": []
    },
    {
      "metadata": {
        "id": "ECxchiaNSiBk",
        "colab_type": "text"
      },
      "cell_type": "markdown",
      "source": [
        "This next steps kicks off the network training. This is where we actually feed the compiled model the data (in batches)."
      ]
    },
    {
      "metadata": {
        "id": "RfIba-7DSiBl",
        "colab_type": "code",
        "colab": {}
      },
      "cell_type": "code",
      "source": [
        "history = model.fit_generator(train_generator, steps_per_epoch=130, epochs=35, \n",
        "                              validation_data=validation_generator, validation_steps=30)"
      ],
      "execution_count": 0,
      "outputs": []
    },
    {
      "metadata": {
        "id": "Blf0r681SiBp",
        "colab_type": "text"
      },
      "cell_type": "markdown",
      "source": [
        "## Evaluate performance\n",
        "First, let's calculate the performance on our testing dataset"
      ]
    },
    {
      "metadata": {
        "id": "ORnirixPSiBq",
        "colab_type": "code",
        "colab": {}
      },
      "cell_type": "code",
      "source": [
        "test_dir = data_home_dir + 'test'\n",
        "test_datagen = ImageDataGenerator(rescale=1./255)\n",
        "test_generator = test_datagen.flow_from_directory(test_dir,batch_size=20, target_size=(dims,dims), class_mode='binary',color_mode='grayscale')\n",
        "\n",
        "#now evaluate the model using the generator\n",
        "[test_loss, test_acc] = model.evaluate_generator(test_generator, steps=600/20)\n",
        "print(\"Test_acc: \"+str(test_acc))"
      ],
      "execution_count": 0,
      "outputs": []
    },
    {
      "metadata": {
        "id": "l2vy9httSiBt",
        "colab_type": "text"
      },
      "cell_type": "markdown",
      "source": [
        "Plot the results using matplotlib"
      ]
    },
    {
      "metadata": {
        "id": "d9LxnCkvSiBt",
        "colab_type": "code",
        "colab": {}
      },
      "cell_type": "code",
      "source": [
        "from matplotlib import pyplot as plt\n",
        "import numpy as np\n",
        "acc = history.history['acc']\n",
        "val_acc = history.history['val_acc']\n",
        "epochs = range(1,len(acc)+1)\n",
        "plt.plot(epochs,acc,'bo', label='Training acc')\n",
        "plt.plot(epochs,val_acc,'b', label='Validation acc')\n",
        "plt.legend()\n",
        "plt.show()"
      ],
      "execution_count": 0,
      "outputs": []
    }
  ]
}