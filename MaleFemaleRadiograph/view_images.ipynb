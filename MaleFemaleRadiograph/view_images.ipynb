{
  "nbformat": 4,
  "nbformat_minor": 0,
  "metadata": {
    "kernelspec": {
      "display_name": "Python 3",
      "language": "python",
      "name": "python3"
    },
    "language_info": {
      "codemirror_mode": {
        "name": "ipython",
        "version": 3
      },
      "file_extension": ".py",
      "mimetype": "text/x-python",
      "name": "python",
      "nbconvert_exporter": "python",
      "pygments_lexer": "ipython3",
      "version": "3.6.3"
    },
    "colab": {
      "name": "view_images.ipynb",
      "version": "0.3.2",
      "provenance": []
    }
  },
  "cells": [
    {
      "cell_type": "code",
      "metadata": {
        "id": "DUOx9K3woHMh",
        "colab_type": "code",
        "colab": {}
      },
      "source": [
        "from google.colab import drive\n",
        "drive.mount('/content/drive')"
      ],
      "execution_count": 0,
      "outputs": []
    },
    {
      "cell_type": "code",
      "metadata": {
        "id": "z7_-IgdToIuB",
        "colab_type": "code",
        "colab": {}
      },
      "source": [
        "!echo \"Copying Data Locally (Male/Female Radiograph)\"\n",
        "!tar xf \"/content/drive/My Drive/ML4MI_BOOTCAMP_DATA/MaleFemaleRadiograph.tar\" --directory /home/"
      ],
      "execution_count": 0,
      "outputs": []
    },
    {
      "cell_type": "code",
      "metadata": {
        "id": "K-pUO_sInE7M",
        "colab_type": "code",
        "colab": {}
      },
      "source": [
        "import os\n",
        "from tensorflow.keras import optimizers\n",
        "from tensorflow.keras.models import Model \n",
        "from tensorflow.keras import layers\n",
        "from tensorflow.keras.preprocessing.image import ImageDataGenerator\n",
        "import numpy as np\n",
        "from matplotlib import pyplot as plt"
      ],
      "execution_count": 0,
      "outputs": []
    },
    {
      "cell_type": "code",
      "metadata": {
        "id": "6iXxQuh7nE7Q",
        "colab_type": "code",
        "colab": {}
      },
      "source": [
        "data_home_dir = '/home/MaleFemaleRadiograph/data/'\n",
        "train_dir = data_home_dir + 'train'"
      ],
      "execution_count": 0,
      "outputs": []
    },
    {
      "cell_type": "code",
      "metadata": {
        "id": "w73wgP7nnE7T",
        "colab_type": "code",
        "colab": {}
      },
      "source": [
        "train_datagen = ImageDataGenerator(rescale=1./255)\n",
        "train_generator =      train_datagen.flow_from_directory(train_dir, batch_size=30, target_size=(256,256), class_mode='binary', color_mode='grayscale')\n"
      ],
      "execution_count": 0,
      "outputs": []
    },
    {
      "cell_type": "code",
      "metadata": {
        "id": "4BkqHNuZnE7V",
        "colab_type": "code",
        "colab": {}
      },
      "source": [
        "X,Y = train_generator.next()"
      ],
      "execution_count": 0,
      "outputs": []
    },
    {
      "cell_type": "code",
      "metadata": {
        "id": "7HKOm7DEnE7X",
        "colab_type": "code",
        "colab": {}
      },
      "source": [
        "ind_male = np.array(np.where(Y==1))\n",
        "ind_female = np.array(np.where(Y==0))"
      ],
      "execution_count": 0,
      "outputs": []
    },
    {
      "cell_type": "code",
      "metadata": {
        "id": "60exe7gfnE7Z",
        "colab_type": "code",
        "colab": {}
      },
      "source": [
        "pltM = X[ind_male[0,-1],:,:,0]\n",
        "pltF = X[ind_female[0,-1],:,:,0]"
      ],
      "execution_count": 0,
      "outputs": []
    },
    {
      "cell_type": "code",
      "metadata": {
        "id": "BX7Rq0CznE7c",
        "colab_type": "code",
        "colab": {}
      },
      "source": [
        "m=0\n",
        "f=0\n",
        "\n",
        "for i in range(30):\n",
        "    if Y[i] == 1. and m < 9:\n",
        "        pltM = np.concatenate((pltM, X[i,:,:,0]),1)\n",
        "        m+=1\n",
        "    elif Y[i] == 0. and f < 9:\n",
        "        pltF = np.concatenate((pltF, X[i,:,:,0]),1)\n",
        "        f+=1"
      ],
      "execution_count": 0,
      "outputs": []
    },
    {
      "cell_type": "code",
      "metadata": {
        "id": "6KuyFVSKnE7e",
        "colab_type": "code",
        "colab": {}
      },
      "source": [
        "plt.figure(figsize=(20,20))       \n",
        "plt.imshow(pltF)\n",
        "plt.figure(figsize=(20,20))\n",
        "plt.imshow(pltM)     "
      ],
      "execution_count": 0,
      "outputs": []
    },
    {
      "cell_type": "code",
      "metadata": {
        "id": "Rw9K-G4znE7g",
        "colab_type": "code",
        "colab": {}
      },
      "source": [
        "pltM.shape"
      ],
      "execution_count": 0,
      "outputs": []
    },
    {
      "cell_type": "code",
      "metadata": {
        "id": "Fwstwt9UnE7i",
        "colab_type": "code",
        "colab": {}
      },
      "source": [
        ""
      ],
      "execution_count": 0,
      "outputs": []
    }
  ]
}