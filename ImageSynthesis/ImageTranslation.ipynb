{
  "nbformat": 4,
  "nbformat_minor": 0,
  "metadata": {
    "kernelspec": {
      "name": "python3",
      "display_name": "Python 3"
    },
    "language_info": {
      "codemirror_mode": {
        "name": "ipython",
        "version": 3
      },
      "file_extension": ".py",
      "mimetype": "text/x-python",
      "name": "python",
      "nbconvert_exporter": "python",
      "pygments_lexer": "ipython3",
      "version": "3.6.3"
    },
    "colab": {
      "name": "ImageTranslation.ipynb",
      "version": "0.3.2",
      "provenance": [],
      "include_colab_link": true
    },
    "accelerator": "GPU"
  },
  "cells": [
    {
      "cell_type": "markdown",
      "metadata": {
        "id": "view-in-github",
        "colab_type": "text"
      },
      "source": [
        "<a href=\"https://colab.research.google.com/github/kmjohnson3/ML4MI_Bootcamp_Development/blob/master/ImageSynthesis/ImageTranslation.ipynb\" target=\"_parent\"><img src=\"https://colab.research.google.com/assets/colab-badge.svg\" alt=\"Open In Colab\"/></a>"
      ]
    },
    {
      "cell_type": "markdown",
      "metadata": {
        "id": "2bU1JX-nez8-",
        "colab_type": "text"
      },
      "source": [
        "# Introduction\n",
        "This tutorial will give an example application of using deep learning for medical image-to-image translation. This example will demonstrate how to transform a segmentation CNN into a regression CNN for the purpose of predicting T2 images from T1 images. \n",
        "\n",
        "Keep an eye out for questions through this demo to test your new DL knowledge and critical thinking. There are answers at the end of the document."
      ]
    },
    {
      "cell_type": "markdown",
      "metadata": {
        "id": "0G0HL52Vez9A",
        "colab_type": "text"
      },
      "source": [
        "### Initial preparation"
      ]
    },
    {
      "cell_type": "markdown",
      "metadata": {
        "id": "r21kulFHez9B",
        "colab_type": "text"
      },
      "source": [
        "Import necessary modules"
      ]
    },
    {
      "cell_type": "code",
      "metadata": {
        "id": "_PARqbo_ez9C",
        "colab_type": "code",
        "colab": {}
      },
      "source": [
        "import os # operating system operations \n",
        "\n",
        "import tensorflow as tf\n",
        "import matplotlib.pyplot as plt # for plotting our results\n",
        "\n",
        "import numpy as np\n",
        "np.random.seed(1) # set seed for random number generator"
      ],
      "execution_count": 0,
      "outputs": []
    },
    {
      "cell_type": "markdown",
      "metadata": {
        "id": "_c1slyQhfMzt",
        "colab_type": "text"
      },
      "source": [
        "Next, we need to copy the files to a place where our CoLab notebook can read them."
      ]
    },
    {
      "cell_type": "code",
      "metadata": {
        "id": "YqqfAcR-fRfR",
        "colab_type": "code",
        "colab": {
          "base_uri": "https://localhost:8080/",
          "height": 72
        },
        "outputId": "38a770d3-d224-4230-9bb3-ae0ee1935c18"
      },
      "source": [
        "# Mount the Google Drive\n",
        "from google.colab import drive\n",
        "drive.mount('/content/drive')\n",
        "\n",
        "# Copy data to this VM\n",
        "import tarfile\n",
        "from tqdm import tqdm\n",
        "with tarfile.open(name='/content/drive/My Drive/ML4MI_BOOTCAMP_DATA/ImageSynthesis.tar') as tar:\n",
        "    for member in tqdm(iterable=tar.getmembers(), desc='Decompressing', unit='file', total=len(tar.getmembers())):\n",
        "      tar.extract(member=member,path='/home/')"
      ],
      "execution_count": 2,
      "outputs": [
        {
          "output_type": "stream",
          "text": [
            "\rDecompressing:   0%|          | 0/3 [00:00<?, ?file/s]"
          ],
          "name": "stderr"
        },
        {
          "output_type": "stream",
          "text": [
            "Drive already mounted at /content/drive; to attempt to forcibly remount, call drive.mount(\"/content/drive\", force_remount=True).\n"
          ],
          "name": "stdout"
        },
        {
          "output_type": "stream",
          "text": [
            "\rDecompressing: 100%|██████████| 3/3 [00:38<00:00, 12.97s/file]\n"
          ],
          "name": "stderr"
        }
      ]
    },
    {
      "cell_type": "markdown",
      "metadata": {
        "id": "HbVE2vm0ez9F",
        "colab_type": "text"
      },
      "source": [
        "# Data Preparation\n",
        "All deep learning applications start with getting the data.\n",
        "\n",
        "We made this one easy for you by compiling the data into an HDF5 file. We will be using MRI T1 images of the brain as inputs, and we wish to convert them to T2 images. All we have to do is load all of the inputs and targets and it will be ready to go.\n",
        "\n",
        "First we import the python hdf5 library, h5py. Then we load all the individual datasets in and convert them to Numpy arrays. This will take a few seconds."
      ]
    },
    {
      "cell_type": "code",
      "metadata": {
        "id": "nWJh6Lvsez9G",
        "colab_type": "code",
        "colab": {}
      },
      "source": [
        "# load training, validation, and testing data\n",
        "# adding a singleton dimension\n",
        "import h5py\n",
        "with h5py.File('/home/ImageSynthesis/data/ImageTranslationData.hdf5','r') as hf:\n",
        "    trainX = np.array(hf.get(\"trainX\"))[...,np.newaxis]\n",
        "    trainY = np.array(hf.get(\"trainY\"))[...,np.newaxis]\n",
        "    valX = np.array(hf.get(\"valX\"))[...,np.newaxis]\n",
        "    valY = np.array(hf.get(\"valY\"))[...,np.newaxis]\n",
        "    testX = np.array(hf.get(\"testX\"))[...,np.newaxis]\n",
        "    testY = np.array(hf.get(\"testY\"))[...,np.newaxis]"
      ],
      "execution_count": 0,
      "outputs": []
    },
    {
      "cell_type": "markdown",
      "metadata": {
        "id": "4U7Bk3Cqez9I",
        "colab_type": "text"
      },
      "source": [
        "##### Question 1: What is the purpose of the training, validation, and testing datasets?"
      ]
    },
    {
      "cell_type": "markdown",
      "metadata": {
        "id": "d0fjNkN7ez9J",
        "colab_type": "text"
      },
      "source": [
        "This time, we will use an ImageDataGenerator so we can augment data on the fly. Before, we used this on a directory to make loading in image data from directories a breeze. However, that only works for classification schemes. For this image to image translation problem, we first had to load all the data into an array. Already did it!\n",
        "\n",
        "Next, we have to setup two generators, one for the input images and one for the target images. Then we will synchronize the generators so they are always creating augmented inputs and targets that match up for training.\n",
        "\n",
        "We have already set these up for you, but it is helpful to look through all the different parameters that are set in the augmentation."
      ]
    },
    {
      "cell_type": "code",
      "metadata": {
        "id": "jUa-dKvNez9K",
        "colab_type": "code",
        "colab": {}
      },
      "source": [
        "from tensorflow.keras.preprocessing.image import ImageDataGenerator \n",
        "# setup image data generator\n",
        "datagen1 = ImageDataGenerator(\n",
        "    rotation_range=10,\n",
        "    shear_range=0.2,\n",
        "    width_shift_range=0.1,\n",
        "    height_shift_range=0.1,\n",
        "    zoom_range=0.2,\n",
        "    horizontal_flip=True,\n",
        "    vertical_flip=True,\n",
        "    fill_mode='nearest')\n",
        "datagen2 = ImageDataGenerator(\n",
        "    rotation_range=10,\n",
        "    shear_range=0.2,\n",
        "    width_shift_range=0.1,\n",
        "    height_shift_range=0.1,\n",
        "    zoom_range=0.2,\n",
        "    horizontal_flip=True,\n",
        "    vertical_flip=True,\n",
        "    fill_mode='nearest')\n",
        "\n",
        "# Provide the same seed and keyword arguments to the fit and flow\n",
        "# in order to synchronize the inputs and targets\n",
        "seed = 1\n",
        "datagen1.fit(trainX, seed=seed)\n",
        "datagen2.fit(trainY, seed=seed)\n",
        "# set batch size\n",
        "batchsize = 16\n",
        "\n",
        "# combine the two datagets into one that simultaneously\n",
        "# provides both input and target image\n",
        "def combine_generator(a,b):\n",
        "  while True:\n",
        "    yield(a.next(), b.next())\n",
        "    \n",
        "train_generator = combine_generator( datagen1.flow( trainX, None, batchsize, seed=seed),\n",
        "                                     datagen2.flow( trainY, None, batchsize, seed=seed))\n",
        "\n",
        "# calculate how many steps per epoch\n",
        "# If we set it to\n",
        "# number of samples / batch size\n",
        "# then we'll see each training example once per epoch\n",
        "# which is what we want\n",
        "steps = np.int(trainX.shape[0]/batchsize)"
      ],
      "execution_count": 0,
      "outputs": []
    },
    {
      "cell_type": "markdown",
      "metadata": {
        "id": "JpDFhUcRez9M",
        "colab_type": "text"
      },
      "source": [
        "It's always a good to check that our data loaded correctly and the inputs correspond to the target images. It is especially important to make sure our data generators are doing what we intend.\n",
        "\n",
        "The below cell asks the data generator for its next batch, then displays the first image of the input and target in the batch. Run it a couple times to see the different augmentations that the generator is doing."
      ]
    },
    {
      "cell_type": "code",
      "metadata": {
        "id": "qps3-ghsez9M",
        "colab_type": "code",
        "colab": {
          "base_uri": "https://localhost:8080/",
          "height": 219
        },
        "outputId": "91f56a3b-38c0-4fa6-dbaa-6e58bdf528c8"
      },
      "source": [
        "dispX,dispY = next(train_generator)\n",
        "plt.figure()\n",
        "disp = np.c_[dispX[0,...,0],\n",
        "             dispY[0,...,0]]\n",
        "plt.imshow(disp,cmap='gray')\n",
        "plt.show()"
      ],
      "execution_count": 5,
      "outputs": [
        {
          "output_type": "display_data",
          "data": {
            "image/png": "[encoded data removed]",
            "text/plain": [
              "<Figure size 432x288 with 1 Axes>"
            ]
          },
          "metadata": {
            "tags": []
          }
        }
      ]
    },
    {
      "cell_type": "markdown",
      "metadata": {
        "id": "Uk600v1mez9P",
        "colab_type": "text"
      },
      "source": [
        "# Transforming Segmentation Network into Translation Network\n",
        "\n",
        "We have already built a segmentation CNN in the convolutional encoder-decoder format. This is exactly what we need for image to image translation since our targets are equivalent in size to our inputs.\n",
        "\n",
        "However, there are some changes we need to make. Our output is continuous rather than binary. This means:\n",
        "1. We want a continuous output that isn't squashed by a sigmoid function\n",
        "2. We need a loss function that works with regression error, not overlap error like Dice\n",
        "\n",
        "We will start with the previously made network that has skip connections and had good performance on the segmentation task. \n",
        "\n",
        "Let's get to work!"
      ]
    },
    {
      "cell_type": "markdown",
      "metadata": {
        "id": "FRNJapoiez9P",
        "colab_type": "text"
      },
      "source": [
        "We have already imported keras, so we don't technically need to import anything. It keep code a lot cleaner to individually import layers, so we'll do that again."
      ]
    },
    {
      "cell_type": "code",
      "metadata": {
        "id": "fK5rjkeIez9Q",
        "colab_type": "code",
        "colab": {}
      },
      "source": [
        "# import keras layers\n",
        "from tensorflow.keras.layers import Input,Conv2D,ZeroPadding2D\n",
        "from tensorflow.keras.layers import concatenate,Conv2DTranspose\n",
        "from tensorflow.keras.models import Model"
      ],
      "execution_count": 0,
      "outputs": []
    },
    {
      "cell_type": "markdown",
      "metadata": {
        "id": "4IBGm86Fez9S",
        "colab_type": "text"
      },
      "source": [
        "Below is the code used to define the segmentation network in the previous example, including the use of skip connections. Make the appropriate alterations to this code as described above to transform it into a image-to-image translation model."
      ]
    },
    {
      "cell_type": "code",
      "metadata": {
        "id": "Cs-letlWez9T",
        "colab_type": "code",
        "colab": {}
      },
      "source": [
        "inp = Input(shape=trainX.shape[1:])\n",
        "init = 'he_normal'\n",
        "x = Conv2D(10,kernel_size=(3,3),padding='same',activation='relu',kernel_initializer=init)(inp)\n",
        "x1 = Conv2D(20, kernel_size=(3,3),padding='same',activation='relu',kernel_initializer=init)(x)\n",
        "zp = ZeroPadding2D(padding=(1,1))(x1)\n",
        "x = Conv2D(30, kernel_size=(4,4),\n",
        "                strides=(2,2),\n",
        "                activation='relu',\n",
        "                kernel_initializer=init)(zp)\n",
        "x = Conv2D(30, kernel_size=(3,3),padding='same',activation='relu',kernel_initializer=init)(x)\n",
        "x2 = Conv2D(40, kernel_size=(3,3),padding='same',activation='relu',kernel_initializer=init)(x)\n",
        "zp = ZeroPadding2D(padding=(1,1))(x2)\n",
        "x = Conv2D(40, kernel_size=(4,4),\n",
        "                strides=(2,2),\n",
        "                activation='relu',\n",
        "                kernel_initializer=init)(zp)\n",
        "x = Conv2D(50, kernel_size=(3,3),padding='same',activation='relu',kernel_initializer=init)(x)\n",
        "x = Conv2D(50, kernel_size=(3,3),padding='same',activation='relu',kernel_initializer=init)(x)\n",
        "x = Conv2DTranspose(40, kernel_size=(4,4),\n",
        "                        strides=(2,2),\n",
        "                        activation='relu',\n",
        "                        kernel_initializer=init)(x)\n",
        "x = Conv2D(40, kernel_size=(3,3),activation='relu',kernel_initializer=init)(x)\n",
        "x = concatenate([x,x2])\n",
        "x = Conv2D(30, kernel_size=(3,3),padding='same',activation='relu',kernel_initializer=init)(x)\n",
        "x = Conv2D(30, kernel_size=(3,3),padding='same',activation='relu',kernel_initializer=init)(x)\n",
        "x = Conv2DTranspose(20, kernel_size=(4,4),\n",
        "                        strides=(2,2),\n",
        "                        activation='relu',\n",
        "                        kernel_initializer=init)(x)\n",
        "x = Conv2D(20, kernel_size=(3,3),activation='relu',kernel_initializer=init)(x)\n",
        "x = concatenate([x,x1])\n",
        "x = Conv2D(10, kernel_size=(3,3),padding='same',activation='relu',kernel_initializer=init)(x)\n",
        "x = Conv2D(10, kernel_size=(3,3),padding='same',activation='relu',kernel_initializer=init)(x)\n",
        "\n",
        "# Final output layer\n",
        "out = Conv2D(1,kernel_size=(1,1),activation='linear',kernel_initializer=init)(x)\n",
        "\n",
        "RegModel = Model(inp,out)"
      ],
      "execution_count": 0,
      "outputs": []
    },
    {
      "cell_type": "markdown",
      "metadata": {
        "id": "WNc8u86Iez9X",
        "colab_type": "text"
      },
      "source": [
        "Next, define the loss function you wish to use for this problem"
      ]
    },
    {
      "cell_type": "code",
      "metadata": {
        "id": "5A0isPq4ez9X",
        "colab_type": "code",
        "colab": {}
      },
      "source": [
        "loss = tf.keras.losses.mean_absolute_error"
      ],
      "execution_count": 0,
      "outputs": []
    },
    {
      "cell_type": "markdown",
      "metadata": {
        "id": "aNN4x5Zlez9Z",
        "colab_type": "text"
      },
      "source": [
        "##### Question 2: What are the consequences of difference loss functions for this task?"
      ]
    },
    {
      "cell_type": "markdown",
      "metadata": {
        "id": "CyvyUe1sez9a",
        "colab_type": "text"
      },
      "source": [
        "Finally, add an optimizer and compile the model"
      ]
    },
    {
      "cell_type": "code",
      "metadata": {
        "id": "fAh-63ojez9b",
        "colab_type": "code",
        "colab": {}
      },
      "source": [
        "opt = tf.keras.optimizers.Adam()\n",
        "\n",
        "RegModel.compile(loss=loss,optimizer=opt)"
      ],
      "execution_count": 0,
      "outputs": []
    },
    {
      "cell_type": "markdown",
      "metadata": {
        "id": "llkxfsR0ez9d",
        "colab_type": "text"
      },
      "source": [
        "Now all you have to do is call your compiled model on this data generator. Here's the syntax:\n",
        "\n",
        "`hist = Model.fit_generator(DataGenerator, steps_per_epoch,epochs,validation_data=(x,y)`\n",
        "\n",
        "Fill in the syntax with the parameters we calculated above, set the epochs to 5, and let it run"
      ]
    },
    {
      "cell_type": "code",
      "metadata": {
        "id": "8MUfJ7fWez9d",
        "colab_type": "code",
        "colab": {
          "base_uri": "https://localhost:8080/",
          "height": 193
        },
        "outputId": "ee70ed66-cc49-47f6-d8b8-847d0cdc935c"
      },
      "source": [
        "hist = RegModel.fit_generator(train_generator,steps_per_epoch=steps,epochs=5, validation_data=(valX,valY))"
      ],
      "execution_count": 10,
      "outputs": [
        {
          "output_type": "stream",
          "text": [
            "Epoch 1/5\n",
            "338/338 [==============================] - 64s 188ms/step - loss: 0.0232 - val_loss: 0.0201\n",
            "Epoch 2/5\n",
            "338/338 [==============================] - 54s 160ms/step - loss: 0.0199 - val_loss: 0.0171\n",
            "Epoch 3/5\n",
            "338/338 [==============================] - 54s 161ms/step - loss: 0.0195 - val_loss: 0.0179\n",
            "Epoch 4/5\n",
            "338/338 [==============================] - 55s 163ms/step - loss: 0.0191 - val_loss: 0.0172\n",
            "Epoch 5/5\n",
            "338/338 [==============================] - 56s 164ms/step - loss: 0.0188 - val_loss: 0.0167\n"
          ],
          "name": "stdout"
        }
      ]
    },
    {
      "cell_type": "markdown",
      "metadata": {
        "id": "iIOBqoSzez9g",
        "colab_type": "text"
      },
      "source": [
        "### Evaluate Model\n",
        "After the training is complete, we evaluate the model on our test data to see the results."
      ]
    },
    {
      "cell_type": "code",
      "metadata": {
        "id": "Tq-KWWTqez9h",
        "colab_type": "code",
        "colab": {
          "base_uri": "https://localhost:8080/",
          "height": 34
        },
        "outputId": "773ce834-3b0a-45c3-887c-44f3e2d5ad39"
      },
      "source": [
        "# Get the loss from evaluating the model and print it out\n",
        "score = RegModel.evaluate(testX, testY, verbose=0)\n",
        "print('Final loss on test set: {:.03e}'.format(score))"
      ],
      "execution_count": 11,
      "outputs": [
        {
          "output_type": "stream",
          "text": [
            "Final loss on test set: 1.674e-02\n"
          ],
          "name": "stdout"
        }
      ]
    },
    {
      "cell_type": "markdown",
      "metadata": {
        "id": "YKrvwb7fez9j",
        "colab_type": "text"
      },
      "source": [
        "Plot the loss curves too:"
      ]
    },
    {
      "cell_type": "code",
      "metadata": {
        "id": "DRQn2QHoez9j",
        "colab_type": "code",
        "colab": {
          "base_uri": "https://localhost:8080/",
          "height": 283
        },
        "outputId": "9a6b6b86-6098-4599-e691-25279ffeb5ad"
      },
      "source": [
        "# Plot the losses that are stored in the 'hist' variable\n",
        "plt.figure(figsize=(6.0, 4.0));\n",
        "plt.plot(hist.epoch,hist.history['loss'],'b-s')\n",
        "plt.plot(hist.epoch,hist.history['val_loss'],'r-s')\n",
        "plt.legend(['Training Loss',\n",
        "            ' Validation Loss'])\n",
        "plt.xlabel('Epochs')\n",
        "plt.ylabel('Loss')\n",
        "plt.ylim([0,np.max(hist.history['loss'])])\n",
        "plt.show()"
      ],
      "execution_count": 12,
      "outputs": [
        {
          "output_type": "display_data",
          "data": {
            "image/png": "[encoded data removed]",
            "text/plain": [
              "<Figure size 432x288 with 1 Axes>"
            ]
          },
          "metadata": {
            "tags": []
          }
        }
      ]
    },
    {
      "cell_type": "markdown",
      "metadata": {
        "id": "D7lvQxtvez9l",
        "colab_type": "text"
      },
      "source": [
        "Another useful way to evaluate a model is to just look at the outputs. We can look at a sample image to see how the images look compared to the ground truth."
      ]
    },
    {
      "cell_type": "code",
      "metadata": {
        "id": "vQpmKhdPez9m",
        "colab_type": "code",
        "colab": {}
      },
      "source": [
        "# Get the predictions of the model on the test inputs\n",
        "predictions = RegModel.predict(testX)"
      ],
      "execution_count": 0,
      "outputs": []
    },
    {
      "cell_type": "markdown",
      "metadata": {
        "id": "yYDqrvMyez9o",
        "colab_type": "text"
      },
      "source": [
        "We'll display the input image, output image, ground truth image, and the difference image in a 2x2 grid. We'll add labels just to make it easier to know what we are looking at."
      ]
    },
    {
      "cell_type": "code",
      "metadata": {
        "id": "f6LaS4M-ez9o",
        "colab_type": "code",
        "colab": {
          "base_uri": "https://localhost:8080/",
          "height": 276
        },
        "outputId": "ffd17055-9820-4c4e-a88e-7893ffb69021"
      },
      "source": [
        "# pick a random slice to examine\n",
        "disp_ind = 40\n",
        "# get the T1 image, and the target mask\n",
        "image = testX[disp_ind,...,0]\n",
        "# get the model predicted T2 image\n",
        "predicted_image = predictions[disp_ind,...,0]\n",
        "# get the actual T2 image\n",
        "truth_image = testY[disp_ind,...,0]\n",
        "# get the absolute difference image\n",
        "diff_image = np.abs(predicted_image-truth_image)\n",
        "# normalize different image\n",
        "diff_image /= np.max(diff_image)\n",
        "# create a figure\n",
        "fig = plt.figure()\n",
        "ax = fig.add_subplot(111)\n",
        "# combine images together into\n",
        "# 2 by 2 grid\n",
        "disp1 = np.c_[image,diff_image]\n",
        "disp2 = np.c_[predicted_image,truth_image]\n",
        "disp = np.r_[disp1,disp2]\n",
        "# display image\n",
        "plt.imshow(disp,cmap='gray')\n",
        "# turn axis off\n",
        "plt.axis('off')\n",
        "# add labels to keep track of\n",
        "# which images are which\n",
        "ax.text(0.25, 1.01, 'Input T1',\n",
        "         horizontalalignment='center',\n",
        "        transform=ax.transAxes,\n",
        "        color='green', fontsize=10)\n",
        "ax.text(0.75, 1.01, 'Difference',\n",
        "         horizontalalignment='center',\n",
        "        transform=ax.transAxes,\n",
        "        color='green', fontsize=10)\n",
        "ax.text(0.25, -.05, 'Output T2',\n",
        "         horizontalalignment='center',\n",
        "        transform=ax.transAxes,\n",
        "        color='green', fontsize=10)\n",
        "ax.text(0.75, -.05, 'Actual T2',\n",
        "         horizontalalignment='center',\n",
        "        transform=ax.transAxes,\n",
        "        color='green', fontsize=10)\n",
        "plt.show()"
      ],
      "execution_count": 14,
      "outputs": [
        {
          "output_type": "display_data",
          "data": {
            "image/png": "[encoded data removed]",
            "text/plain": [
              "<Figure size 432x288 with 1 Axes>"
            ]
          },
          "metadata": {
            "tags": []
          }
        }
      ]
    },
    {
      "cell_type": "markdown",
      "metadata": {
        "id": "cpDkdGRlez9q",
        "colab_type": "text"
      },
      "source": [
        "Results will vary here. It's unlikely to be perfect. However, you can probably notice some of the contrast patterns are starting to align with the target image, and likely there are a few concentrated areas of error in the difference image. You could definitely train this model longer and get better results!"
      ]
    },
    {
      "cell_type": "markdown",
      "metadata": {
        "id": "CzY5bnpfez9r",
        "colab_type": "text"
      },
      "source": [
        "##### Question 3: What do you notice about the input and target images? Look closely, and compare to the output image"
      ]
    },
    {
      "cell_type": "markdown",
      "metadata": {
        "id": "UujDnD2Jez9s",
        "colab_type": "text"
      },
      "source": [
        "## Future Directions\n",
        "\n",
        "In the last few years, a specialized type of deep learning model known as GANs have taken over image-to-image translation problems. GAN stands for Generative Adversarial Network. There are lots of resources online, but we'll provide a quick breakdown of them here in the context of medical imaging.\n",
        "\n",
        "  - Generative: The model contains a \"generator\" that is responsible for turning the input image into the target image. The network we used for this example would serve as the generator.\n",
        "  - Adversarial: There is a second part of the model known as a \"discriminator\". The job of this discriminator is to determine whether an image that it is given is real or \"fake\": produced by the generator. It takes the form of a classification network that classifies the test image as real or fake. The score of the discriminator is used as the loss of the generator. Thus, these networks battle against each other in an adversarial way.\n",
        "    \n",
        "Initially, the generator will not produce very good images- T2 images for this example. The discriminator will easily tell the difference between real T2 and generator-produced T2 images, and the generator's loss will be high. However, the generator will learn from this loss and start producing better looking T2 images. Eventually, the generator will produce T2 images that are indistinguishable from real T2 images.\n",
        "\n",
        "There have been 100s of versions of different GANs developed. If you can use image-to-image translation in your work, they are definitely an area to explore."
      ]
    },
    {
      "cell_type": "markdown",
      "metadata": {
        "id": "eY2NlFNVez9s",
        "colab_type": "text"
      },
      "source": [
        "## End of Image To Image Translation Example. Happy deep learning!"
      ]
    },
    {
      "cell_type": "markdown",
      "metadata": {
        "id": "V47A_9Qzez9t",
        "colab_type": "text"
      },
      "source": [
        "## Answers to Questions\n",
        "#### 1- What is the purpose of the training, validation, and testing datasets?\n",
        "\n",
        "* Training: These data are fed into the model, the loss is calculated on the results, and the weights in the network are updated based on that loss.\n",
        "* Validation: This dataset is checked at the end of every epoch, and is used to determine whether the model is overfitting the training data or is learning more general features that can apply to broader data.\n",
        "* Testing: Since the model sees the validation data during the course of training, a testing datset is occasionally kept separate and checked at the end of training for a truly independent measure of the model's performance.\n",
        "    \n",
        "#### 2- What are the consequences of different loss functions for this task?\n",
        "\n",
        "There are two main choices for this regression task: mean squared error or mean absolute error. There are mathematical differences in what each error encourages the model to learn.\n",
        "\n",
        "Mean square error encourages the output to be averaged. When there are multiple possible targets for given inputs to the model, it will learn to produce the average of these outputs. This results in smooth and sometimes blurry results.\n",
        "\n",
        "Mean absolute error encourages the output to be a median. This is usually better for image tasks. It can still produce blurry outputs in areas of uncertainty, but generally does a better job of preserving edges and subtler features.\n",
        "\n",
        "\n",
        "#### 3- What do you notice about the input and target images?\n",
        "\n",
        "Depending on which slice you chose to display, you can likely notice that there are imperfections in the registration of the input and target images- they aren't perfectly lined up. This is a common problem in medical imaging. For image-to-image translation tasks, it means that no matter how good your model is, there won't be a perfect solution. In fact, you might notice that the model's output aligns more closely with the input. This makes sense- the model has no idea that there are registration problems- it's just trying to convert one image to look like another.\n",
        "\n",
        "If there are systematic registration problems (e.g. output is shifted, rotated from input) then the model will learn this bias and implement that in its solutions. If the problems are random, it likely won't be able to replicate them,  and be a little blurry instead.\n",
        "\n",
        "If you are interested in the state-of-the-art solutions to registration problems, search for \"CycleGANs\".\n"
      ]
    },
    {
      "cell_type": "code",
      "metadata": {
        "id": "H0E1s1tcez9u",
        "colab_type": "code",
        "colab": {}
      },
      "source": [
        ""
      ],
      "execution_count": 0,
      "outputs": []
    }
  ]
}